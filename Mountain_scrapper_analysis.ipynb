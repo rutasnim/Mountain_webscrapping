{
  "nbformat": 4,
  "nbformat_minor": 0,
  "metadata": {
    "colab": {
      "provenance": [],
      "authorship_tag": "ABX9TyNN3XDfWlFi40akjCSyjyM6",
      "include_colab_link": true
    },
    "kernelspec": {
      "name": "python3",
      "display_name": "Python 3"
    },
    "language_info": {
      "name": "python"
    }
  },
  "cells": [
    {
      "cell_type": "markdown",
      "metadata": {
        "id": "view-in-github",
        "colab_type": "text"
      },
      "source": [
        "<a href=\"https://colab.research.google.com/github/rutasnim/Mountain_webscrapping/blob/main/Mountain_scrapper_analysis.ipynb\" target=\"_parent\"><img src=\"https://colab.research.google.com/assets/colab-badge.svg\" alt=\"Open In Colab\"/></a>"
      ]
    },
    {
      "cell_type": "markdown",
      "source": [
        "# Scraping and Analyzing List of highest mountains on Earth \n",
        "In this notebook, I scrapped data from wikipedia page containing List of highest mountains on Earth using beautifulsoup and request. \n",
        "\n",
        "I loaded the scrapped data in pandas dataframe and performed exploratory data analysis "
      ],
      "metadata": {
        "id": "hufxXIzEkXYC"
      }
    },
    {
      "cell_type": "markdown",
      "source": [
        "## 1. Web Scraping "
      ],
      "metadata": {
        "id": "ghPoRStjsA-g"
      }
    },
    {
      "cell_type": "code",
      "execution_count": 1,
      "metadata": {
        "id": "GsizYX8WZHnW"
      },
      "outputs": [],
      "source": [
        "# Importing the required libraries\n",
        "import requests\n",
        "import pandas as pd\n",
        "import numpy as np\n",
        "from bs4 import BeautifulSoup\n",
        "import matplotlib.pyplot as plt\n",
        "import seaborn as sns"
      ]
    },
    {
      "cell_type": "markdown",
      "source": [
        "###  Downloading URL using requests\n"
      ],
      "metadata": {
        "id": "i362a0htsWci"
      }
    },
    {
      "cell_type": "code",
      "source": [
        "# Downloading contents of the web page\n",
        "url = \"https://en.wikipedia.org/wiki/List_of_highest_mountains_on_Earth\"\n",
        "data = requests.get(url).text"
      ],
      "metadata": {
        "id": "V-29PposZJ0z"
      },
      "execution_count": 2,
      "outputs": []
    },
    {
      "cell_type": "markdown",
      "source": [
        "### Creating BeautifulSoup object"
      ],
      "metadata": {
        "id": "xbrdFnmHsrzi"
      }
    },
    {
      "cell_type": "code",
      "source": [
        "# Creating BeautifulSoup object\n",
        "soup = BeautifulSoup(data, 'html.parser')"
      ],
      "metadata": {
        "id": "Vuh_e8yMaGC4"
      },
      "execution_count": 3,
      "outputs": []
    },
    {
      "cell_type": "code",
      "source": [
        "# Verifying tables and their classes\n",
        "print('Classes of each table:')\n",
        "for table in soup.find_all('table'):\n",
        "    print(table.get('class'))\n"
      ],
      "metadata": {
        "colab": {
          "base_uri": "https://localhost:8080/"
        },
        "id": "AQzroaP4tXDF",
        "outputId": "c3f50de6-a2fd-405b-8ecf-ba8b45e8aabe"
      },
      "execution_count": 4,
      "outputs": [
        {
          "output_type": "stream",
          "name": "stdout",
          "text": [
            "Classes of each table:\n",
            "['box-Original_research', 'plainlinks', 'metadata', 'ambox', 'ambox-content', 'ambox-Original_research']\n",
            "['noprint', 'infobox']\n",
            "['wikitable', 'sortable']\n"
          ]
        }
      ]
    },
    {
      "cell_type": "code",
      "source": [
        "# Our piece of code tells us we want the second table (aka. class = ‘wikitable’ and ‘sortable’)\n",
        "#  Looking for the table with the classes 'wikitable' and 'sortable'\n",
        "table = soup.find('table', class_='wikitable sortable')"
      ],
      "metadata": {
        "id": "SeAB3FTPZP4_"
      },
      "execution_count": 5,
      "outputs": []
    },
    {
      "cell_type": "markdown",
      "source": [
        "### Data Collection & Extraction"
      ],
      "metadata": {
        "id": "aWMSv871taAS"
      }
    },
    {
      "cell_type": "code",
      "source": [
        "# Defining of the dataframe\n",
        "df = pd.DataFrame(columns=['Rank','Mountain_name','Height_m', 'Height_ft', 'Prominence_m', 'Prominence_ft',\n",
        "                                        'Range','Coordinates', 'Parent_mountain','Succesful_attempt_yr',\n",
        "                                        'Succesful_attempts', 'Failed_attempts','Country'])\n",
        "\n",
        "# Collecting data\n",
        "for row in table.tbody.find_all('tr'):    \n",
        "    # Find all data for each column\n",
        "    col = row.find_all('td')\n",
        "    # Extracting data . .text removes the tags from entries.\n",
        "    # done additional stripping and breaking down.\n",
        "    if(col != []):\n",
        "        rank =col[0].text.strip()\n",
        "        name = col[1].a.text.strip()\n",
        "        height_m = col[2].text.strip()\n",
        "        height_ft= col[3].text.split(\"[\")[0].strip()\n",
        "        prominence_m =col[4].text.strip()\n",
        "        prominence_ft= col[5].text.strip()\n",
        "        Range = col[6].text.split()\n",
        "        coordinates = col[7].text.split('/')[0]\n",
        "        parent_mountain=col[8].text.strip()\n",
        "        first_attempt=col[9].text.strip()\n",
        "        success_attempts= col[10].text.split(\"[\")[0].strip()\n",
        "        failed_attempts=col[11].text.strip().split(\"[\")[0].strip()\n",
        "        #Country column extraction\n",
        "        anchors=col[12].find_all(\"a\")\n",
        "        \n",
        "        l=[]\n",
        "        for x in anchors:\n",
        "            l.append((x.text.strip(\"[dp0123456789]\")).strip(''))\n",
        "            Country=[]\n",
        "            for element in l:\n",
        "                if element.strip():\n",
        "                    Country.append(element)\n",
        "        # appending the rows in the df\n",
        "        df = df.append({'Rank': rank, 'Mountain_name': name,'Height_m':height_m,'Height_ft': height_ft,\n",
        "                    'Prominence_m': prominence_m,'Prominence_ft': prominence_ft,'Range':Range,\n",
        "                    'Coordinates': coordinates,'Parent_mountain':parent_mountain,\n",
        "                    'Succesful_attempt_yr': first_attempt,'Succesful_attempts':success_attempts,\n",
        "                    'Failed_attempts': failed_attempts,'Country':Country}, ignore_index=True)"
      ],
      "metadata": {
        "id": "AO4FIPgzZRw5"
      },
      "execution_count": 6,
      "outputs": []
    },
    {
      "cell_type": "code",
      "source": [
        "df.head()"
      ],
      "metadata": {
        "colab": {
          "base_uri": "https://localhost:8080/",
          "height": 392
        },
        "id": "mrZq8ZbpaQ89",
        "outputId": "7f59619e-5276-4d5c-e13b-27fc93d4717a"
      },
      "execution_count": 7,
      "outputs": [
        {
          "output_type": "execute_result",
          "data": {
            "text/plain": [
              "  Rank  Mountain_name Height_m Height_ft Prominence_m Prominence_ft  \\\n",
              "0    1  Mount Everest    8,848    29,029        8,848        29,029   \n",
              "1    2             K2    8,611    28,251        4,020        13,190   \n",
              "2    3  Kangchenjunga    8,586    28,169        3,922        12,867   \n",
              "3    4         Lhotse    8,516    27,940          610         2,000   \n",
              "4    5         Makalu    8,485    27,838        2,378         7,802   \n",
              "\n",
              "                       Range  \\\n",
              "0     [Mahalangur, Himalaya]   \n",
              "1       [Baltoro, Karakoram]   \n",
              "2  [Kangchenjunga, Himalaya]   \n",
              "3     [Mahalangur, Himalaya]   \n",
              "4     [Mahalangur, Himalaya]   \n",
              "\n",
              "                                         Coordinates Parent_mountain  \\\n",
              "0  .mw-parser-output .geo-default,.mw-parser-outp...               —   \n",
              "1                            35°52′53″N 76°30′48″E﻿    Mount Everest   \n",
              "2                            27°42′12″N 88°08′51″E﻿    Mount Everest   \n",
              "3                            27°57′42″N 86°55′59″E﻿    Mount Everest   \n",
              "4                            27°53′23″N 87°05′20″E﻿    Mount Everest   \n",
              "\n",
              "  Succesful_attempt_yr Succesful_attempts Failed_attempts            Country  \n",
              "0                 1953                145             121     [Nepal, China]  \n",
              "1                 1954                 45              44  [Pakistan, China]  \n",
              "2                 1955                 38              24     [Nepal, India]  \n",
              "3                 1956                 26              26     [China, Nepal]  \n",
              "4                 1955                 45               —     [Nepal, China]  "
            ],
            "text/html": [
              "\n",
              "  <div id=\"df-ba71fb0f-154f-4879-98bd-79ab51c804b1\">\n",
              "    <div class=\"colab-df-container\">\n",
              "      <div>\n",
              "<style scoped>\n",
              "    .dataframe tbody tr th:only-of-type {\n",
              "        vertical-align: middle;\n",
              "    }\n",
              "\n",
              "    .dataframe tbody tr th {\n",
              "        vertical-align: top;\n",
              "    }\n",
              "\n",
              "    .dataframe thead th {\n",
              "        text-align: right;\n",
              "    }\n",
              "</style>\n",
              "<table border=\"1\" class=\"dataframe\">\n",
              "  <thead>\n",
              "    <tr style=\"text-align: right;\">\n",
              "      <th></th>\n",
              "      <th>Rank</th>\n",
              "      <th>Mountain_name</th>\n",
              "      <th>Height_m</th>\n",
              "      <th>Height_ft</th>\n",
              "      <th>Prominence_m</th>\n",
              "      <th>Prominence_ft</th>\n",
              "      <th>Range</th>\n",
              "      <th>Coordinates</th>\n",
              "      <th>Parent_mountain</th>\n",
              "      <th>Succesful_attempt_yr</th>\n",
              "      <th>Succesful_attempts</th>\n",
              "      <th>Failed_attempts</th>\n",
              "      <th>Country</th>\n",
              "    </tr>\n",
              "  </thead>\n",
              "  <tbody>\n",
              "    <tr>\n",
              "      <th>0</th>\n",
              "      <td>1</td>\n",
              "      <td>Mount Everest</td>\n",
              "      <td>8,848</td>\n",
              "      <td>29,029</td>\n",
              "      <td>8,848</td>\n",
              "      <td>29,029</td>\n",
              "      <td>[Mahalangur, Himalaya]</td>\n",
              "      <td>.mw-parser-output .geo-default,.mw-parser-outp...</td>\n",
              "      <td>—</td>\n",
              "      <td>1953</td>\n",
              "      <td>145</td>\n",
              "      <td>121</td>\n",
              "      <td>[Nepal, China]</td>\n",
              "    </tr>\n",
              "    <tr>\n",
              "      <th>1</th>\n",
              "      <td>2</td>\n",
              "      <td>K2</td>\n",
              "      <td>8,611</td>\n",
              "      <td>28,251</td>\n",
              "      <td>4,020</td>\n",
              "      <td>13,190</td>\n",
              "      <td>[Baltoro, Karakoram]</td>\n",
              "      <td>35°52′53″N 76°30′48″E﻿</td>\n",
              "      <td>Mount Everest</td>\n",
              "      <td>1954</td>\n",
              "      <td>45</td>\n",
              "      <td>44</td>\n",
              "      <td>[Pakistan, China]</td>\n",
              "    </tr>\n",
              "    <tr>\n",
              "      <th>2</th>\n",
              "      <td>3</td>\n",
              "      <td>Kangchenjunga</td>\n",
              "      <td>8,586</td>\n",
              "      <td>28,169</td>\n",
              "      <td>3,922</td>\n",
              "      <td>12,867</td>\n",
              "      <td>[Kangchenjunga, Himalaya]</td>\n",
              "      <td>27°42′12″N 88°08′51″E﻿</td>\n",
              "      <td>Mount Everest</td>\n",
              "      <td>1955</td>\n",
              "      <td>38</td>\n",
              "      <td>24</td>\n",
              "      <td>[Nepal, India]</td>\n",
              "    </tr>\n",
              "    <tr>\n",
              "      <th>3</th>\n",
              "      <td>4</td>\n",
              "      <td>Lhotse</td>\n",
              "      <td>8,516</td>\n",
              "      <td>27,940</td>\n",
              "      <td>610</td>\n",
              "      <td>2,000</td>\n",
              "      <td>[Mahalangur, Himalaya]</td>\n",
              "      <td>27°57′42″N 86°55′59″E﻿</td>\n",
              "      <td>Mount Everest</td>\n",
              "      <td>1956</td>\n",
              "      <td>26</td>\n",
              "      <td>26</td>\n",
              "      <td>[China, Nepal]</td>\n",
              "    </tr>\n",
              "    <tr>\n",
              "      <th>4</th>\n",
              "      <td>5</td>\n",
              "      <td>Makalu</td>\n",
              "      <td>8,485</td>\n",
              "      <td>27,838</td>\n",
              "      <td>2,378</td>\n",
              "      <td>7,802</td>\n",
              "      <td>[Mahalangur, Himalaya]</td>\n",
              "      <td>27°53′23″N 87°05′20″E﻿</td>\n",
              "      <td>Mount Everest</td>\n",
              "      <td>1955</td>\n",
              "      <td>45</td>\n",
              "      <td>—</td>\n",
              "      <td>[Nepal, China]</td>\n",
              "    </tr>\n",
              "  </tbody>\n",
              "</table>\n",
              "</div>\n",
              "      <button class=\"colab-df-convert\" onclick=\"convertToInteractive('df-ba71fb0f-154f-4879-98bd-79ab51c804b1')\"\n",
              "              title=\"Convert this dataframe to an interactive table.\"\n",
              "              style=\"display:none;\">\n",
              "        \n",
              "  <svg xmlns=\"http://www.w3.org/2000/svg\" height=\"24px\"viewBox=\"0 0 24 24\"\n",
              "       width=\"24px\">\n",
              "    <path d=\"M0 0h24v24H0V0z\" fill=\"none\"/>\n",
              "    <path d=\"M18.56 5.44l.94 2.06.94-2.06 2.06-.94-2.06-.94-.94-2.06-.94 2.06-2.06.94zm-11 1L8.5 8.5l.94-2.06 2.06-.94-2.06-.94L8.5 2.5l-.94 2.06-2.06.94zm10 10l.94 2.06.94-2.06 2.06-.94-2.06-.94-.94-2.06-.94 2.06-2.06.94z\"/><path d=\"M17.41 7.96l-1.37-1.37c-.4-.4-.92-.59-1.43-.59-.52 0-1.04.2-1.43.59L10.3 9.45l-7.72 7.72c-.78.78-.78 2.05 0 2.83L4 21.41c.39.39.9.59 1.41.59.51 0 1.02-.2 1.41-.59l7.78-7.78 2.81-2.81c.8-.78.8-2.07 0-2.86zM5.41 20L4 18.59l7.72-7.72 1.47 1.35L5.41 20z\"/>\n",
              "  </svg>\n",
              "      </button>\n",
              "      \n",
              "  <style>\n",
              "    .colab-df-container {\n",
              "      display:flex;\n",
              "      flex-wrap:wrap;\n",
              "      gap: 12px;\n",
              "    }\n",
              "\n",
              "    .colab-df-convert {\n",
              "      background-color: #E8F0FE;\n",
              "      border: none;\n",
              "      border-radius: 50%;\n",
              "      cursor: pointer;\n",
              "      display: none;\n",
              "      fill: #1967D2;\n",
              "      height: 32px;\n",
              "      padding: 0 0 0 0;\n",
              "      width: 32px;\n",
              "    }\n",
              "\n",
              "    .colab-df-convert:hover {\n",
              "      background-color: #E2EBFA;\n",
              "      box-shadow: 0px 1px 2px rgba(60, 64, 67, 0.3), 0px 1px 3px 1px rgba(60, 64, 67, 0.15);\n",
              "      fill: #174EA6;\n",
              "    }\n",
              "\n",
              "    [theme=dark] .colab-df-convert {\n",
              "      background-color: #3B4455;\n",
              "      fill: #D2E3FC;\n",
              "    }\n",
              "\n",
              "    [theme=dark] .colab-df-convert:hover {\n",
              "      background-color: #434B5C;\n",
              "      box-shadow: 0px 1px 3px 1px rgba(0, 0, 0, 0.15);\n",
              "      filter: drop-shadow(0px 1px 2px rgba(0, 0, 0, 0.3));\n",
              "      fill: #FFFFFF;\n",
              "    }\n",
              "  </style>\n",
              "\n",
              "      <script>\n",
              "        const buttonEl =\n",
              "          document.querySelector('#df-ba71fb0f-154f-4879-98bd-79ab51c804b1 button.colab-df-convert');\n",
              "        buttonEl.style.display =\n",
              "          google.colab.kernel.accessAllowed ? 'block' : 'none';\n",
              "\n",
              "        async function convertToInteractive(key) {\n",
              "          const element = document.querySelector('#df-ba71fb0f-154f-4879-98bd-79ab51c804b1');\n",
              "          const dataTable =\n",
              "            await google.colab.kernel.invokeFunction('convertToInteractive',\n",
              "                                                     [key], {});\n",
              "          if (!dataTable) return;\n",
              "\n",
              "          const docLinkHtml = 'Like what you see? Visit the ' +\n",
              "            '<a target=\"_blank\" href=https://colab.research.google.com/notebooks/data_table.ipynb>data table notebook</a>'\n",
              "            + ' to learn more about interactive tables.';\n",
              "          element.innerHTML = '';\n",
              "          dataTable['output_type'] = 'display_data';\n",
              "          await google.colab.output.renderOutput(dataTable, element);\n",
              "          const docLink = document.createElement('div');\n",
              "          docLink.innerHTML = docLinkHtml;\n",
              "          element.appendChild(docLink);\n",
              "        }\n",
              "      </script>\n",
              "    </div>\n",
              "  </div>\n",
              "  "
            ]
          },
          "metadata": {},
          "execution_count": 7
        }
      ]
    },
    {
      "cell_type": "code",
      "source": [
        "df.tail()"
      ],
      "metadata": {
        "colab": {
          "base_uri": "https://localhost:8080/",
          "height": 357
        },
        "id": "uGOeTfu-fkms",
        "outputId": "e9561b38-8404-44c6-99a8-ba94b683f1f3"
      },
      "execution_count": 8,
      "outputs": [
        {
          "output_type": "execute_result",
          "data": {
            "text/plain": [
              "    Rank    Mountain_name Height_m Height_ft Prominence_m Prominence_ft  \\\n",
              "115  104  Noijin Kangsang    7,206    23,642        2,160         7,090   \n",
              "116  105      Langtang Ri    7,205    23,638          665         2,182   \n",
              "117  106     Kangphu Kang    7,204    23,635        1,244         4,081   \n",
              "118  107    Singhi Kangri    7,202    23,629          730         2,400   \n",
              "119  108      Lupghar Sar    7,200    23,600          730         2,400   \n",
              "\n",
              "                    Range              Coordinates   Parent_mountain  \\\n",
              "115   [Nagarze, Himalaya]  28°56′48″N 90°10′42″E﻿   Gangkhar Puensum   \n",
              "116  [Langtang, Himalaya]  28°22′53″N 85°41′01″E﻿       Shishapangma   \n",
              "117    [Lunana, Himalaya]  28°09′24″N 90°04′15″E﻿      Tongshanjiabu   \n",
              "118  [Siachen, Karakoram]  35°35′59″N 76°59′01″E﻿   Teram Kangri III   \n",
              "119   [Hispar, Karakoram]  36°21′01″N 75°02′13″E﻿         Momhil Sar   \n",
              "\n",
              "    Succesful_attempt_yr Succesful_attempts Failed_attempts          Country  \n",
              "115                 1986                  4               1          [China]  \n",
              "116                 1981                  4               0   [Nepal, China]  \n",
              "117                 2002                  1               0  [Bhutan, China]  \n",
              "118                 1976                  2               0   [India, China]  \n",
              "119                 1979                  1               0       [Pakistan]  "
            ],
            "text/html": [
              "\n",
              "  <div id=\"df-6daf448e-9d35-477a-978b-594d52d7e334\">\n",
              "    <div class=\"colab-df-container\">\n",
              "      <div>\n",
              "<style scoped>\n",
              "    .dataframe tbody tr th:only-of-type {\n",
              "        vertical-align: middle;\n",
              "    }\n",
              "\n",
              "    .dataframe tbody tr th {\n",
              "        vertical-align: top;\n",
              "    }\n",
              "\n",
              "    .dataframe thead th {\n",
              "        text-align: right;\n",
              "    }\n",
              "</style>\n",
              "<table border=\"1\" class=\"dataframe\">\n",
              "  <thead>\n",
              "    <tr style=\"text-align: right;\">\n",
              "      <th></th>\n",
              "      <th>Rank</th>\n",
              "      <th>Mountain_name</th>\n",
              "      <th>Height_m</th>\n",
              "      <th>Height_ft</th>\n",
              "      <th>Prominence_m</th>\n",
              "      <th>Prominence_ft</th>\n",
              "      <th>Range</th>\n",
              "      <th>Coordinates</th>\n",
              "      <th>Parent_mountain</th>\n",
              "      <th>Succesful_attempt_yr</th>\n",
              "      <th>Succesful_attempts</th>\n",
              "      <th>Failed_attempts</th>\n",
              "      <th>Country</th>\n",
              "    </tr>\n",
              "  </thead>\n",
              "  <tbody>\n",
              "    <tr>\n",
              "      <th>115</th>\n",
              "      <td>104</td>\n",
              "      <td>Noijin Kangsang</td>\n",
              "      <td>7,206</td>\n",
              "      <td>23,642</td>\n",
              "      <td>2,160</td>\n",
              "      <td>7,090</td>\n",
              "      <td>[Nagarze, Himalaya]</td>\n",
              "      <td>28°56′48″N 90°10′42″E﻿</td>\n",
              "      <td>Gangkhar Puensum</td>\n",
              "      <td>1986</td>\n",
              "      <td>4</td>\n",
              "      <td>1</td>\n",
              "      <td>[China]</td>\n",
              "    </tr>\n",
              "    <tr>\n",
              "      <th>116</th>\n",
              "      <td>105</td>\n",
              "      <td>Langtang Ri</td>\n",
              "      <td>7,205</td>\n",
              "      <td>23,638</td>\n",
              "      <td>665</td>\n",
              "      <td>2,182</td>\n",
              "      <td>[Langtang, Himalaya]</td>\n",
              "      <td>28°22′53″N 85°41′01″E﻿</td>\n",
              "      <td>Shishapangma</td>\n",
              "      <td>1981</td>\n",
              "      <td>4</td>\n",
              "      <td>0</td>\n",
              "      <td>[Nepal, China]</td>\n",
              "    </tr>\n",
              "    <tr>\n",
              "      <th>117</th>\n",
              "      <td>106</td>\n",
              "      <td>Kangphu Kang</td>\n",
              "      <td>7,204</td>\n",
              "      <td>23,635</td>\n",
              "      <td>1,244</td>\n",
              "      <td>4,081</td>\n",
              "      <td>[Lunana, Himalaya]</td>\n",
              "      <td>28°09′24″N 90°04′15″E﻿</td>\n",
              "      <td>Tongshanjiabu</td>\n",
              "      <td>2002</td>\n",
              "      <td>1</td>\n",
              "      <td>0</td>\n",
              "      <td>[Bhutan, China]</td>\n",
              "    </tr>\n",
              "    <tr>\n",
              "      <th>118</th>\n",
              "      <td>107</td>\n",
              "      <td>Singhi Kangri</td>\n",
              "      <td>7,202</td>\n",
              "      <td>23,629</td>\n",
              "      <td>730</td>\n",
              "      <td>2,400</td>\n",
              "      <td>[Siachen, Karakoram]</td>\n",
              "      <td>35°35′59″N 76°59′01″E﻿</td>\n",
              "      <td>Teram Kangri III</td>\n",
              "      <td>1976</td>\n",
              "      <td>2</td>\n",
              "      <td>0</td>\n",
              "      <td>[India, China]</td>\n",
              "    </tr>\n",
              "    <tr>\n",
              "      <th>119</th>\n",
              "      <td>108</td>\n",
              "      <td>Lupghar Sar</td>\n",
              "      <td>7,200</td>\n",
              "      <td>23,600</td>\n",
              "      <td>730</td>\n",
              "      <td>2,400</td>\n",
              "      <td>[Hispar, Karakoram]</td>\n",
              "      <td>36°21′01″N 75°02′13″E﻿</td>\n",
              "      <td>Momhil Sar</td>\n",
              "      <td>1979</td>\n",
              "      <td>1</td>\n",
              "      <td>0</td>\n",
              "      <td>[Pakistan]</td>\n",
              "    </tr>\n",
              "  </tbody>\n",
              "</table>\n",
              "</div>\n",
              "      <button class=\"colab-df-convert\" onclick=\"convertToInteractive('df-6daf448e-9d35-477a-978b-594d52d7e334')\"\n",
              "              title=\"Convert this dataframe to an interactive table.\"\n",
              "              style=\"display:none;\">\n",
              "        \n",
              "  <svg xmlns=\"http://www.w3.org/2000/svg\" height=\"24px\"viewBox=\"0 0 24 24\"\n",
              "       width=\"24px\">\n",
              "    <path d=\"M0 0h24v24H0V0z\" fill=\"none\"/>\n",
              "    <path d=\"M18.56 5.44l.94 2.06.94-2.06 2.06-.94-2.06-.94-.94-2.06-.94 2.06-2.06.94zm-11 1L8.5 8.5l.94-2.06 2.06-.94-2.06-.94L8.5 2.5l-.94 2.06-2.06.94zm10 10l.94 2.06.94-2.06 2.06-.94-2.06-.94-.94-2.06-.94 2.06-2.06.94z\"/><path d=\"M17.41 7.96l-1.37-1.37c-.4-.4-.92-.59-1.43-.59-.52 0-1.04.2-1.43.59L10.3 9.45l-7.72 7.72c-.78.78-.78 2.05 0 2.83L4 21.41c.39.39.9.59 1.41.59.51 0 1.02-.2 1.41-.59l7.78-7.78 2.81-2.81c.8-.78.8-2.07 0-2.86zM5.41 20L4 18.59l7.72-7.72 1.47 1.35L5.41 20z\"/>\n",
              "  </svg>\n",
              "      </button>\n",
              "      \n",
              "  <style>\n",
              "    .colab-df-container {\n",
              "      display:flex;\n",
              "      flex-wrap:wrap;\n",
              "      gap: 12px;\n",
              "    }\n",
              "\n",
              "    .colab-df-convert {\n",
              "      background-color: #E8F0FE;\n",
              "      border: none;\n",
              "      border-radius: 50%;\n",
              "      cursor: pointer;\n",
              "      display: none;\n",
              "      fill: #1967D2;\n",
              "      height: 32px;\n",
              "      padding: 0 0 0 0;\n",
              "      width: 32px;\n",
              "    }\n",
              "\n",
              "    .colab-df-convert:hover {\n",
              "      background-color: #E2EBFA;\n",
              "      box-shadow: 0px 1px 2px rgba(60, 64, 67, 0.3), 0px 1px 3px 1px rgba(60, 64, 67, 0.15);\n",
              "      fill: #174EA6;\n",
              "    }\n",
              "\n",
              "    [theme=dark] .colab-df-convert {\n",
              "      background-color: #3B4455;\n",
              "      fill: #D2E3FC;\n",
              "    }\n",
              "\n",
              "    [theme=dark] .colab-df-convert:hover {\n",
              "      background-color: #434B5C;\n",
              "      box-shadow: 0px 1px 3px 1px rgba(0, 0, 0, 0.15);\n",
              "      filter: drop-shadow(0px 1px 2px rgba(0, 0, 0, 0.3));\n",
              "      fill: #FFFFFF;\n",
              "    }\n",
              "  </style>\n",
              "\n",
              "      <script>\n",
              "        const buttonEl =\n",
              "          document.querySelector('#df-6daf448e-9d35-477a-978b-594d52d7e334 button.colab-df-convert');\n",
              "        buttonEl.style.display =\n",
              "          google.colab.kernel.accessAllowed ? 'block' : 'none';\n",
              "\n",
              "        async function convertToInteractive(key) {\n",
              "          const element = document.querySelector('#df-6daf448e-9d35-477a-978b-594d52d7e334');\n",
              "          const dataTable =\n",
              "            await google.colab.kernel.invokeFunction('convertToInteractive',\n",
              "                                                     [key], {});\n",
              "          if (!dataTable) return;\n",
              "\n",
              "          const docLinkHtml = 'Like what you see? Visit the ' +\n",
              "            '<a target=\"_blank\" href=https://colab.research.google.com/notebooks/data_table.ipynb>data table notebook</a>'\n",
              "            + ' to learn more about interactive tables.';\n",
              "          element.innerHTML = '';\n",
              "          dataTable['output_type'] = 'display_data';\n",
              "          await google.colab.output.renderOutput(dataTable, element);\n",
              "          const docLink = document.createElement('div');\n",
              "          docLink.innerHTML = docLinkHtml;\n",
              "          element.appendChild(docLink);\n",
              "        }\n",
              "      </script>\n",
              "    </div>\n",
              "  </div>\n",
              "  "
            ]
          },
          "metadata": {},
          "execution_count": 8
        }
      ]
    },
    {
      "cell_type": "markdown",
      "source": [
        "## 2. Data Cleaning & Transformation\n",
        "- In our scraped data, first row \"Coordinates\" column did not get the correct coordinates. Therefore, we are changing the coordinates with the right coordinates"
      ],
      "metadata": {
        "id": "knV_SgrMOasT"
      }
    },
    {
      "cell_type": "code",
      "source": [
        "df['Coordinates'].loc[df['Mountain_name']=='Mount Everest']='27°59′17″N 86°55′31″E'"
      ],
      "metadata": {
        "id": "sKU1YINcR0AI"
      },
      "execution_count": 9,
      "outputs": []
    },
    {
      "cell_type": "markdown",
      "source": [
        "\n",
        "```RANK``` Column has \"S\" values for same Rank as the previous row:\n"
      ],
      "metadata": {
        "id": "Lg4hcx07S8b9"
      }
    },
    {
      "cell_type": "code",
      "source": [
        "x='S'\n",
        "df.query('Rank==@x')"
      ],
      "metadata": {
        "colab": {
          "base_uri": "https://localhost:8080/",
          "height": 698
        },
        "id": "kf-H7AnjTFrN",
        "outputId": "0ac4182d-2d25-41a2-9ab4-1bc043cc3841"
      },
      "execution_count": 10,
      "outputs": [
        {
          "output_type": "execute_result",
          "data": {
            "text/plain": [
              "    Rank    Mountain_name Height_m Height_ft Prominence_m Prominence_ft  \\\n",
              "15     S   Gasherbrum III    7,946    26,070          355         1,165   \n",
              "21     S           Nuptse    7,864    25,801          305         1,001   \n",
              "35     S      Molamenqing    7,703    25,272          433         1,421   \n",
              "39     S    Dhaulagiri IV    7,661    25,135          469         1,539   \n",
              "41     S     Dhaulagiri V    7,618    24,993          340         1,120   \n",
              "51     S     Annapurna IV    7,525    24,688          255           837   \n",
              "66     S     Sunanda Devi    7,434    24,390          229           751   \n",
              "83     S        Abi Gamin    7,355    24,131          217           712   \n",
              "84     S  Gimmigela Chuli    7,350    24,110          432         1,417   \n",
              "85     S    Nangpai Gosum    7,350    24,110          427         1,401   \n",
              "87     S           Talung    7,349    24,111          366         1,201   \n",
              "102    S    Dhaulagiri VI    7,268    23,845          488         1,601   \n",
              "\n",
              "                         Range              Coordinates Parent_mountain  \\\n",
              "15        [Baltoro, Karakoram]  35°45′33″N 76°38′30″E﻿    Gasherbrum II   \n",
              "21      [Mahalangur, Himalaya]  27°58′03″N 86°53′13″E﻿           Lhotse   \n",
              "35        [Langtang, Himalaya]  28°21′18″N 85°48′35″E﻿     Shishapangma   \n",
              "39      [Dhaulagiri, Himalaya]  28°44′09″N 83°18′55″E﻿    Dhaulagiri II   \n",
              "41      [Dhaulagiri, Himalaya]  28°44′02″N 83°21′41″E﻿    Dhaulagiri IV   \n",
              "51       [Annapurna, Himalaya]   28°32′15″N 84°4′58″E﻿        Annapurna   \n",
              "66         [Garhwal, Himalaya]  30°22′00″N 79°59′40″E﻿       Nanda Devi   \n",
              "83         [Garhwal, Himalaya]  30°55′57″N 79°36′09″E﻿            Kamet   \n",
              "84   [Kangchenjunga, Himalaya]  27°44′27″N 88°09′31″E﻿    Kangchenjunga   \n",
              "85      [Mahalangur, Himalaya]  28°04′24″N 86°36′51″E﻿          Cho Oyu   \n",
              "87   [Kangchenjunga, Himalaya]  27°39′18″N 88°07′51″E﻿            Kabru   \n",
              "102     [Dhaulagiri, Himalaya]  28°42′31″N 83°16′27″E﻿    Dhaulagiri IV   \n",
              "\n",
              "    Succesful_attempt_yr Succesful_attempts Failed_attempts            Country  \n",
              "15                  1975                  2               2  [Pakistan, China]  \n",
              "21                  1961                  5              12            [Nepal]  \n",
              "35                  1981                  1               0            [China]  \n",
              "39                  1975                  2              10            [Nepal]  \n",
              "41                  1975                  2               3            [Nepal]  \n",
              "51                  1955                 43              18            [Nepal]  \n",
              "66                  1939                 14              12            [India]  \n",
              "83                  1950                 17               2     [India, China]  \n",
              "84                  1994                  3               1     [India, Nepal]  \n",
              "85                  1986                                  1     [Nepal, China]  \n",
              "87                  1964                  3               4     [Nepal, India]  \n",
              "102                 1970                  5               0            [Nepal]  "
            ],
            "text/html": [
              "\n",
              "  <div id=\"df-d21f9bf7-523f-4ae7-b976-1120a3d11276\">\n",
              "    <div class=\"colab-df-container\">\n",
              "      <div>\n",
              "<style scoped>\n",
              "    .dataframe tbody tr th:only-of-type {\n",
              "        vertical-align: middle;\n",
              "    }\n",
              "\n",
              "    .dataframe tbody tr th {\n",
              "        vertical-align: top;\n",
              "    }\n",
              "\n",
              "    .dataframe thead th {\n",
              "        text-align: right;\n",
              "    }\n",
              "</style>\n",
              "<table border=\"1\" class=\"dataframe\">\n",
              "  <thead>\n",
              "    <tr style=\"text-align: right;\">\n",
              "      <th></th>\n",
              "      <th>Rank</th>\n",
              "      <th>Mountain_name</th>\n",
              "      <th>Height_m</th>\n",
              "      <th>Height_ft</th>\n",
              "      <th>Prominence_m</th>\n",
              "      <th>Prominence_ft</th>\n",
              "      <th>Range</th>\n",
              "      <th>Coordinates</th>\n",
              "      <th>Parent_mountain</th>\n",
              "      <th>Succesful_attempt_yr</th>\n",
              "      <th>Succesful_attempts</th>\n",
              "      <th>Failed_attempts</th>\n",
              "      <th>Country</th>\n",
              "    </tr>\n",
              "  </thead>\n",
              "  <tbody>\n",
              "    <tr>\n",
              "      <th>15</th>\n",
              "      <td>S</td>\n",
              "      <td>Gasherbrum III</td>\n",
              "      <td>7,946</td>\n",
              "      <td>26,070</td>\n",
              "      <td>355</td>\n",
              "      <td>1,165</td>\n",
              "      <td>[Baltoro, Karakoram]</td>\n",
              "      <td>35°45′33″N 76°38′30″E﻿</td>\n",
              "      <td>Gasherbrum II</td>\n",
              "      <td>1975</td>\n",
              "      <td>2</td>\n",
              "      <td>2</td>\n",
              "      <td>[Pakistan, China]</td>\n",
              "    </tr>\n",
              "    <tr>\n",
              "      <th>21</th>\n",
              "      <td>S</td>\n",
              "      <td>Nuptse</td>\n",
              "      <td>7,864</td>\n",
              "      <td>25,801</td>\n",
              "      <td>305</td>\n",
              "      <td>1,001</td>\n",
              "      <td>[Mahalangur, Himalaya]</td>\n",
              "      <td>27°58′03″N 86°53′13″E﻿</td>\n",
              "      <td>Lhotse</td>\n",
              "      <td>1961</td>\n",
              "      <td>5</td>\n",
              "      <td>12</td>\n",
              "      <td>[Nepal]</td>\n",
              "    </tr>\n",
              "    <tr>\n",
              "      <th>35</th>\n",
              "      <td>S</td>\n",
              "      <td>Molamenqing</td>\n",
              "      <td>7,703</td>\n",
              "      <td>25,272</td>\n",
              "      <td>433</td>\n",
              "      <td>1,421</td>\n",
              "      <td>[Langtang, Himalaya]</td>\n",
              "      <td>28°21′18″N 85°48′35″E﻿</td>\n",
              "      <td>Shishapangma</td>\n",
              "      <td>1981</td>\n",
              "      <td>1</td>\n",
              "      <td>0</td>\n",
              "      <td>[China]</td>\n",
              "    </tr>\n",
              "    <tr>\n",
              "      <th>39</th>\n",
              "      <td>S</td>\n",
              "      <td>Dhaulagiri IV</td>\n",
              "      <td>7,661</td>\n",
              "      <td>25,135</td>\n",
              "      <td>469</td>\n",
              "      <td>1,539</td>\n",
              "      <td>[Dhaulagiri, Himalaya]</td>\n",
              "      <td>28°44′09″N 83°18′55″E﻿</td>\n",
              "      <td>Dhaulagiri II</td>\n",
              "      <td>1975</td>\n",
              "      <td>2</td>\n",
              "      <td>10</td>\n",
              "      <td>[Nepal]</td>\n",
              "    </tr>\n",
              "    <tr>\n",
              "      <th>41</th>\n",
              "      <td>S</td>\n",
              "      <td>Dhaulagiri V</td>\n",
              "      <td>7,618</td>\n",
              "      <td>24,993</td>\n",
              "      <td>340</td>\n",
              "      <td>1,120</td>\n",
              "      <td>[Dhaulagiri, Himalaya]</td>\n",
              "      <td>28°44′02″N 83°21′41″E﻿</td>\n",
              "      <td>Dhaulagiri IV</td>\n",
              "      <td>1975</td>\n",
              "      <td>2</td>\n",
              "      <td>3</td>\n",
              "      <td>[Nepal]</td>\n",
              "    </tr>\n",
              "    <tr>\n",
              "      <th>51</th>\n",
              "      <td>S</td>\n",
              "      <td>Annapurna IV</td>\n",
              "      <td>7,525</td>\n",
              "      <td>24,688</td>\n",
              "      <td>255</td>\n",
              "      <td>837</td>\n",
              "      <td>[Annapurna, Himalaya]</td>\n",
              "      <td>28°32′15″N 84°4′58″E﻿</td>\n",
              "      <td>Annapurna</td>\n",
              "      <td>1955</td>\n",
              "      <td>43</td>\n",
              "      <td>18</td>\n",
              "      <td>[Nepal]</td>\n",
              "    </tr>\n",
              "    <tr>\n",
              "      <th>66</th>\n",
              "      <td>S</td>\n",
              "      <td>Sunanda Devi</td>\n",
              "      <td>7,434</td>\n",
              "      <td>24,390</td>\n",
              "      <td>229</td>\n",
              "      <td>751</td>\n",
              "      <td>[Garhwal, Himalaya]</td>\n",
              "      <td>30°22′00″N 79°59′40″E﻿</td>\n",
              "      <td>Nanda Devi</td>\n",
              "      <td>1939</td>\n",
              "      <td>14</td>\n",
              "      <td>12</td>\n",
              "      <td>[India]</td>\n",
              "    </tr>\n",
              "    <tr>\n",
              "      <th>83</th>\n",
              "      <td>S</td>\n",
              "      <td>Abi Gamin</td>\n",
              "      <td>7,355</td>\n",
              "      <td>24,131</td>\n",
              "      <td>217</td>\n",
              "      <td>712</td>\n",
              "      <td>[Garhwal, Himalaya]</td>\n",
              "      <td>30°55′57″N 79°36′09″E﻿</td>\n",
              "      <td>Kamet</td>\n",
              "      <td>1950</td>\n",
              "      <td>17</td>\n",
              "      <td>2</td>\n",
              "      <td>[India, China]</td>\n",
              "    </tr>\n",
              "    <tr>\n",
              "      <th>84</th>\n",
              "      <td>S</td>\n",
              "      <td>Gimmigela Chuli</td>\n",
              "      <td>7,350</td>\n",
              "      <td>24,110</td>\n",
              "      <td>432</td>\n",
              "      <td>1,417</td>\n",
              "      <td>[Kangchenjunga, Himalaya]</td>\n",
              "      <td>27°44′27″N 88°09′31″E﻿</td>\n",
              "      <td>Kangchenjunga</td>\n",
              "      <td>1994</td>\n",
              "      <td>3</td>\n",
              "      <td>1</td>\n",
              "      <td>[India, Nepal]</td>\n",
              "    </tr>\n",
              "    <tr>\n",
              "      <th>85</th>\n",
              "      <td>S</td>\n",
              "      <td>Nangpai Gosum</td>\n",
              "      <td>7,350</td>\n",
              "      <td>24,110</td>\n",
              "      <td>427</td>\n",
              "      <td>1,401</td>\n",
              "      <td>[Mahalangur, Himalaya]</td>\n",
              "      <td>28°04′24″N 86°36′51″E﻿</td>\n",
              "      <td>Cho Oyu</td>\n",
              "      <td>1986</td>\n",
              "      <td></td>\n",
              "      <td>1</td>\n",
              "      <td>[Nepal, China]</td>\n",
              "    </tr>\n",
              "    <tr>\n",
              "      <th>87</th>\n",
              "      <td>S</td>\n",
              "      <td>Talung</td>\n",
              "      <td>7,349</td>\n",
              "      <td>24,111</td>\n",
              "      <td>366</td>\n",
              "      <td>1,201</td>\n",
              "      <td>[Kangchenjunga, Himalaya]</td>\n",
              "      <td>27°39′18″N 88°07′51″E﻿</td>\n",
              "      <td>Kabru</td>\n",
              "      <td>1964</td>\n",
              "      <td>3</td>\n",
              "      <td>4</td>\n",
              "      <td>[Nepal, India]</td>\n",
              "    </tr>\n",
              "    <tr>\n",
              "      <th>102</th>\n",
              "      <td>S</td>\n",
              "      <td>Dhaulagiri VI</td>\n",
              "      <td>7,268</td>\n",
              "      <td>23,845</td>\n",
              "      <td>488</td>\n",
              "      <td>1,601</td>\n",
              "      <td>[Dhaulagiri, Himalaya]</td>\n",
              "      <td>28°42′31″N 83°16′27″E﻿</td>\n",
              "      <td>Dhaulagiri IV</td>\n",
              "      <td>1970</td>\n",
              "      <td>5</td>\n",
              "      <td>0</td>\n",
              "      <td>[Nepal]</td>\n",
              "    </tr>\n",
              "  </tbody>\n",
              "</table>\n",
              "</div>\n",
              "      <button class=\"colab-df-convert\" onclick=\"convertToInteractive('df-d21f9bf7-523f-4ae7-b976-1120a3d11276')\"\n",
              "              title=\"Convert this dataframe to an interactive table.\"\n",
              "              style=\"display:none;\">\n",
              "        \n",
              "  <svg xmlns=\"http://www.w3.org/2000/svg\" height=\"24px\"viewBox=\"0 0 24 24\"\n",
              "       width=\"24px\">\n",
              "    <path d=\"M0 0h24v24H0V0z\" fill=\"none\"/>\n",
              "    <path d=\"M18.56 5.44l.94 2.06.94-2.06 2.06-.94-2.06-.94-.94-2.06-.94 2.06-2.06.94zm-11 1L8.5 8.5l.94-2.06 2.06-.94-2.06-.94L8.5 2.5l-.94 2.06-2.06.94zm10 10l.94 2.06.94-2.06 2.06-.94-2.06-.94-.94-2.06-.94 2.06-2.06.94z\"/><path d=\"M17.41 7.96l-1.37-1.37c-.4-.4-.92-.59-1.43-.59-.52 0-1.04.2-1.43.59L10.3 9.45l-7.72 7.72c-.78.78-.78 2.05 0 2.83L4 21.41c.39.39.9.59 1.41.59.51 0 1.02-.2 1.41-.59l7.78-7.78 2.81-2.81c.8-.78.8-2.07 0-2.86zM5.41 20L4 18.59l7.72-7.72 1.47 1.35L5.41 20z\"/>\n",
              "  </svg>\n",
              "      </button>\n",
              "      \n",
              "  <style>\n",
              "    .colab-df-container {\n",
              "      display:flex;\n",
              "      flex-wrap:wrap;\n",
              "      gap: 12px;\n",
              "    }\n",
              "\n",
              "    .colab-df-convert {\n",
              "      background-color: #E8F0FE;\n",
              "      border: none;\n",
              "      border-radius: 50%;\n",
              "      cursor: pointer;\n",
              "      display: none;\n",
              "      fill: #1967D2;\n",
              "      height: 32px;\n",
              "      padding: 0 0 0 0;\n",
              "      width: 32px;\n",
              "    }\n",
              "\n",
              "    .colab-df-convert:hover {\n",
              "      background-color: #E2EBFA;\n",
              "      box-shadow: 0px 1px 2px rgba(60, 64, 67, 0.3), 0px 1px 3px 1px rgba(60, 64, 67, 0.15);\n",
              "      fill: #174EA6;\n",
              "    }\n",
              "\n",
              "    [theme=dark] .colab-df-convert {\n",
              "      background-color: #3B4455;\n",
              "      fill: #D2E3FC;\n",
              "    }\n",
              "\n",
              "    [theme=dark] .colab-df-convert:hover {\n",
              "      background-color: #434B5C;\n",
              "      box-shadow: 0px 1px 3px 1px rgba(0, 0, 0, 0.15);\n",
              "      filter: drop-shadow(0px 1px 2px rgba(0, 0, 0, 0.3));\n",
              "      fill: #FFFFFF;\n",
              "    }\n",
              "  </style>\n",
              "\n",
              "      <script>\n",
              "        const buttonEl =\n",
              "          document.querySelector('#df-d21f9bf7-523f-4ae7-b976-1120a3d11276 button.colab-df-convert');\n",
              "        buttonEl.style.display =\n",
              "          google.colab.kernel.accessAllowed ? 'block' : 'none';\n",
              "\n",
              "        async function convertToInteractive(key) {\n",
              "          const element = document.querySelector('#df-d21f9bf7-523f-4ae7-b976-1120a3d11276');\n",
              "          const dataTable =\n",
              "            await google.colab.kernel.invokeFunction('convertToInteractive',\n",
              "                                                     [key], {});\n",
              "          if (!dataTable) return;\n",
              "\n",
              "          const docLinkHtml = 'Like what you see? Visit the ' +\n",
              "            '<a target=\"_blank\" href=https://colab.research.google.com/notebooks/data_table.ipynb>data table notebook</a>'\n",
              "            + ' to learn more about interactive tables.';\n",
              "          element.innerHTML = '';\n",
              "          dataTable['output_type'] = 'display_data';\n",
              "          await google.colab.output.renderOutput(dataTable, element);\n",
              "          const docLink = document.createElement('div');\n",
              "          docLink.innerHTML = docLinkHtml;\n",
              "          element.appendChild(docLink);\n",
              "        }\n",
              "      </script>\n",
              "    </div>\n",
              "  </div>\n",
              "  "
            ]
          },
          "metadata": {},
          "execution_count": 10
        }
      ]
    },
    {
      "cell_type": "markdown",
      "source": [
        "**Changing \"S\" Values in ```Rank``` column to number as the previous row values:**"
      ],
      "metadata": {
        "id": "spbt2N8SjYTb"
      }
    },
    {
      "cell_type": "code",
      "source": [
        "rank=[]\n",
        "for i, row in df.iterrows():\n",
        "  #print(i, row['Rank'])\n",
        "  if row['Rank']=='S':\n",
        "    rank.append(df._get_value(i-1, 'Rank'))\n",
        "  \n",
        "  else:\n",
        "    rank.append(row['Rank'])\n",
        "\n",
        "#rank\n",
        "df['Rank']=rank\n",
        "    "
      ],
      "metadata": {
        "id": "XkXOav9iW8Ma"
      },
      "execution_count": 15,
      "outputs": []
    },
    {
      "cell_type": "markdown",
      "source": [
        "### Display data types"
      ],
      "metadata": {
        "id": "xyFHqCr9kQvv"
      }
    },
    {
      "cell_type": "code",
      "source": [
        "print(df.dtypes)"
      ],
      "metadata": {
        "colab": {
          "base_uri": "https://localhost:8080/"
        },
        "id": "rTFT1NX7wAqg",
        "outputId": "9608f925-bef0-4253-83f5-bcfd7752db07"
      },
      "execution_count": 18,
      "outputs": [
        {
          "output_type": "stream",
          "name": "stdout",
          "text": [
            "Rank                    object\n",
            "Mountain_name           object\n",
            "Height_m                object\n",
            "Height_ft               object\n",
            "Prominence_m            object\n",
            "Prominence_ft           object\n",
            "Range                   object\n",
            "Coordinates             object\n",
            "Parent_mountain         object\n",
            "Succesful_attempt_yr    object\n",
            "Succesful_attempts      object\n",
            "Failed_attempts         object\n",
            "Country                 object\n",
            "dtype: object\n"
          ]
        }
      ]
    },
    {
      "cell_type": "code",
      "source": [
        "#change the data types for the following columns\n",
        "df['Height_m']=df['Height_m'].str.replace(',', '').astype(float)\n",
        "df['Height_ft']=df['Height_ft'].str.replace(',', '').astype(float)\n",
        "\n",
        "df['Prominence_m']=df['Prominence_m'].str.replace(',', '').astype(float)\n",
        "df['Prominence_ft']=df['Prominence_ft'].str.replace(',', '').astype(float)\n",
        "\n",
        "# take out \"none\" and convert to float\n",
        "df['Succesful_attempt_yr']=df['Succesful_attempt_yr'].str.replace(\"none\", '')\n",
        "df['Succesful_attempt_yr']=pd.to_numeric(df['Succesful_attempt_yr'],downcast=\"integer\")\n",
        "\n",
        "df['Succesful_attempts']=df['Succesful_attempts'].str.replace(\"many\", '')\n",
        "df['Succesful_attempts']=df['Succesful_attempts'].str.replace( \"—\",'')\n",
        "df['Succesful_attempts']=pd.to_numeric(df['Succesful_attempts'],downcast=\"integer\")\n",
        "\n",
        "df['Failed_attempts']=df['Failed_attempts'].str.replace(\"many\", '')\n",
        "df['Failed_attempts']=df['Failed_attempts'].str.replace(\"—\",'')\n",
        "df['Failed_attempts']=pd.to_numeric(df['Failed_attempts'],downcast=\"integer\")\n",
        "df['Rank']=pd.to_numeric(df['Rank'])"
      ],
      "metadata": {
        "id": "THZRzzWOyi4Q"
      },
      "execution_count": 19,
      "outputs": []
    },
    {
      "cell_type": "code",
      "source": [
        "# Display data types\n",
        "print(df.dtypes)"
      ],
      "metadata": {
        "colab": {
          "base_uri": "https://localhost:8080/"
        },
        "id": "JSDqqKy7kGT1",
        "outputId": "2f6f3f8b-b94e-483b-8737-144445fdbd54"
      },
      "execution_count": 20,
      "outputs": [
        {
          "output_type": "stream",
          "name": "stdout",
          "text": [
            "Rank                      int64\n",
            "Mountain_name            object\n",
            "Height_m                float64\n",
            "Height_ft               float64\n",
            "Prominence_m            float64\n",
            "Prominence_ft           float64\n",
            "Range                    object\n",
            "Coordinates              object\n",
            "Parent_mountain          object\n",
            "Succesful_attempt_yr    float64\n",
            "Succesful_attempts      float64\n",
            "Failed_attempts         float64\n",
            "Country                  object\n",
            "dtype: object\n"
          ]
        }
      ]
    },
    {
      "cell_type": "code",
      "source": [
        "#Changing data types float to int\n",
        "df['Succesful_attempt_yr'] = df['Succesful_attempt_yr'].astype('Int64')\n",
        "df['Failed_attempts'] = df['Failed_attempts'].astype('Int64')\n",
        "df['Succesful_attempts'] = df['Succesful_attempts'].astype('Int64')"
      ],
      "metadata": {
        "id": "NgwzM--pKxVt"
      },
      "execution_count": 22,
      "outputs": []
    },
    {
      "cell_type": "markdown",
      "source": [
        "### Exporting to CSV:"
      ],
      "metadata": {
        "id": "uj-g7Eq3kj0J"
      }
    },
    {
      "cell_type": "code",
      "source": [
        "df.to_csv('mountain.csv',index=False)"
      ],
      "metadata": {
        "id": "pfqn20mwkiuH"
      },
      "execution_count": 23,
      "outputs": []
    },
    {
      "cell_type": "markdown",
      "source": [
        "## 3. Data Analysis\n",
        "Exploratory data analysis is an important step to analyze the data.\n",
        "- Summarize main characteristics\n",
        "- Visualize data distribution\n",
        "- Handle missing values and outliers\n",
        "- Form hypotheses "
      ],
      "metadata": {
        "id": "k2v9w1BNvP2A"
      }
    },
    {
      "cell_type": "markdown",
      "source": [
        "### 1. Summarize Main Characteristics"
      ],
      "metadata": {
        "id": "0zPPxCXAvXKi"
      }
    },
    {
      "cell_type": "code",
      "source": [
        "# Display the size of the dataset\n",
        "print(df.shape)"
      ],
      "metadata": {
        "colab": {
          "base_uri": "https://localhost:8080/"
        },
        "id": "dxkJRBmgv5F_",
        "outputId": "51c70ccc-0716-4489-f407-6331df9667e9"
      },
      "execution_count": 17,
      "outputs": [
        {
          "output_type": "stream",
          "name": "stdout",
          "text": [
            "(120, 13)\n"
          ]
        }
      ]
    },
    {
      "cell_type": "code",
      "source": [
        "# Display data types\n",
        "print(df.dtypes)"
      ],
      "metadata": {
        "colab": {
          "base_uri": "https://localhost:8080/"
        },
        "id": "QETzr-5j1ybV",
        "outputId": "0a260fb5-e93d-4267-b205-4d62df79fc81"
      },
      "execution_count": 24,
      "outputs": [
        {
          "output_type": "stream",
          "name": "stdout",
          "text": [
            "Rank                      int64\n",
            "Mountain_name            object\n",
            "Height_m                float64\n",
            "Height_ft               float64\n",
            "Prominence_m            float64\n",
            "Prominence_ft           float64\n",
            "Range                    object\n",
            "Coordinates              object\n",
            "Parent_mountain          object\n",
            "Succesful_attempt_yr      Int64\n",
            "Succesful_attempts        Int64\n",
            "Failed_attempts           Int64\n",
            "Country                  object\n",
            "dtype: object\n"
          ]
        }
      ]
    },
    {
      "cell_type": "code",
      "source": [
        "#check for missing values\n",
        "df.isnull().sum()"
      ],
      "metadata": {
        "colab": {
          "base_uri": "https://localhost:8080/"
        },
        "id": "B4vZhE6kxKxr",
        "outputId": "f965cfc5-3543-4088-c83d-c46c2b21816e"
      },
      "execution_count": 25,
      "outputs": [
        {
          "output_type": "execute_result",
          "data": {
            "text/plain": [
              "Rank                    0\n",
              "Mountain_name           0\n",
              "Height_m                0\n",
              "Height_ft               0\n",
              "Prominence_m            0\n",
              "Prominence_ft           0\n",
              "Range                   0\n",
              "Coordinates             0\n",
              "Parent_mountain         0\n",
              "Succesful_attempt_yr    4\n",
              "Succesful_attempts      4\n",
              "Failed_attempts         4\n",
              "Country                 0\n",
              "dtype: int64"
            ]
          },
          "metadata": {},
          "execution_count": 25
        }
      ]
    },
    {
      "cell_type": "code",
      "source": [
        "df.info()"
      ],
      "metadata": {
        "colab": {
          "base_uri": "https://localhost:8080/"
        },
        "id": "vyUHuixexWwj",
        "outputId": "8af38880-f5bb-4f8a-cf44-a8bf88b96239"
      },
      "execution_count": 26,
      "outputs": [
        {
          "output_type": "stream",
          "name": "stdout",
          "text": [
            "<class 'pandas.core.frame.DataFrame'>\n",
            "RangeIndex: 120 entries, 0 to 119\n",
            "Data columns (total 13 columns):\n",
            " #   Column                Non-Null Count  Dtype  \n",
            "---  ------                --------------  -----  \n",
            " 0   Rank                  120 non-null    int64  \n",
            " 1   Mountain_name         120 non-null    object \n",
            " 2   Height_m              120 non-null    float64\n",
            " 3   Height_ft             120 non-null    float64\n",
            " 4   Prominence_m          120 non-null    float64\n",
            " 5   Prominence_ft         120 non-null    float64\n",
            " 6   Range                 120 non-null    object \n",
            " 7   Coordinates           120 non-null    object \n",
            " 8   Parent_mountain       120 non-null    object \n",
            " 9   Succesful_attempt_yr  116 non-null    Int64  \n",
            " 10  Succesful_attempts    116 non-null    Int64  \n",
            " 11  Failed_attempts       116 non-null    Int64  \n",
            " 12  Country               120 non-null    object \n",
            "dtypes: Int64(3), float64(4), int64(1), object(5)\n",
            "memory usage: 12.7+ KB\n"
          ]
        }
      ]
    },
    {
      "cell_type": "markdown",
      "source": [
        "### Unconquered mountains \n",
        "While checking for missing values, we find that there are 4 values in First_attempt_year. There are 4 high mountains out of the top 120 highest mountain that have not been conquered yet!!\n",
        "\n",
        "Lets find out those unconquered mountain names and locations"
      ],
      "metadata": {
        "id": "fq3o6w3yr_eG"
      }
    },
    {
      "cell_type": "code",
      "source": [
        "df1=df.loc[df['Succesful_attempt_yr'].isnull()]\n",
        "df1[['Mountain_name', 'Height_m','Country']]"
      ],
      "metadata": {
        "colab": {
          "base_uri": "https://localhost:8080/",
          "height": 175
        },
        "id": "zdxD4tmTMY5j",
        "outputId": "581213f8-174e-4bd4-d092-741cd441ff61"
      },
      "execution_count": 27,
      "outputs": [
        {
          "output_type": "execute_result",
          "data": {
            "text/plain": [
              "        Mountain_name  Height_m          Country\n",
              "44   Gangkhar Puensum    7570.0  [Bhutan, China]\n",
              "104  Labuche Kang III    7250.0          [China]\n",
              "110          Karjiang    7221.0          [China]\n",
              "113     Tongshanjiabu    7207.0  [Bhutan, China]"
            ],
            "text/html": [
              "\n",
              "  <div id=\"df-100d5c0e-3515-4a28-a491-ae7e593e2fa4\">\n",
              "    <div class=\"colab-df-container\">\n",
              "      <div>\n",
              "<style scoped>\n",
              "    .dataframe tbody tr th:only-of-type {\n",
              "        vertical-align: middle;\n",
              "    }\n",
              "\n",
              "    .dataframe tbody tr th {\n",
              "        vertical-align: top;\n",
              "    }\n",
              "\n",
              "    .dataframe thead th {\n",
              "        text-align: right;\n",
              "    }\n",
              "</style>\n",
              "<table border=\"1\" class=\"dataframe\">\n",
              "  <thead>\n",
              "    <tr style=\"text-align: right;\">\n",
              "      <th></th>\n",
              "      <th>Mountain_name</th>\n",
              "      <th>Height_m</th>\n",
              "      <th>Country</th>\n",
              "    </tr>\n",
              "  </thead>\n",
              "  <tbody>\n",
              "    <tr>\n",
              "      <th>44</th>\n",
              "      <td>Gangkhar Puensum</td>\n",
              "      <td>7570.0</td>\n",
              "      <td>[Bhutan, China]</td>\n",
              "    </tr>\n",
              "    <tr>\n",
              "      <th>104</th>\n",
              "      <td>Labuche Kang III</td>\n",
              "      <td>7250.0</td>\n",
              "      <td>[China]</td>\n",
              "    </tr>\n",
              "    <tr>\n",
              "      <th>110</th>\n",
              "      <td>Karjiang</td>\n",
              "      <td>7221.0</td>\n",
              "      <td>[China]</td>\n",
              "    </tr>\n",
              "    <tr>\n",
              "      <th>113</th>\n",
              "      <td>Tongshanjiabu</td>\n",
              "      <td>7207.0</td>\n",
              "      <td>[Bhutan, China]</td>\n",
              "    </tr>\n",
              "  </tbody>\n",
              "</table>\n",
              "</div>\n",
              "      <button class=\"colab-df-convert\" onclick=\"convertToInteractive('df-100d5c0e-3515-4a28-a491-ae7e593e2fa4')\"\n",
              "              title=\"Convert this dataframe to an interactive table.\"\n",
              "              style=\"display:none;\">\n",
              "        \n",
              "  <svg xmlns=\"http://www.w3.org/2000/svg\" height=\"24px\"viewBox=\"0 0 24 24\"\n",
              "       width=\"24px\">\n",
              "    <path d=\"M0 0h24v24H0V0z\" fill=\"none\"/>\n",
              "    <path d=\"M18.56 5.44l.94 2.06.94-2.06 2.06-.94-2.06-.94-.94-2.06-.94 2.06-2.06.94zm-11 1L8.5 8.5l.94-2.06 2.06-.94-2.06-.94L8.5 2.5l-.94 2.06-2.06.94zm10 10l.94 2.06.94-2.06 2.06-.94-2.06-.94-.94-2.06-.94 2.06-2.06.94z\"/><path d=\"M17.41 7.96l-1.37-1.37c-.4-.4-.92-.59-1.43-.59-.52 0-1.04.2-1.43.59L10.3 9.45l-7.72 7.72c-.78.78-.78 2.05 0 2.83L4 21.41c.39.39.9.59 1.41.59.51 0 1.02-.2 1.41-.59l7.78-7.78 2.81-2.81c.8-.78.8-2.07 0-2.86zM5.41 20L4 18.59l7.72-7.72 1.47 1.35L5.41 20z\"/>\n",
              "  </svg>\n",
              "      </button>\n",
              "      \n",
              "  <style>\n",
              "    .colab-df-container {\n",
              "      display:flex;\n",
              "      flex-wrap:wrap;\n",
              "      gap: 12px;\n",
              "    }\n",
              "\n",
              "    .colab-df-convert {\n",
              "      background-color: #E8F0FE;\n",
              "      border: none;\n",
              "      border-radius: 50%;\n",
              "      cursor: pointer;\n",
              "      display: none;\n",
              "      fill: #1967D2;\n",
              "      height: 32px;\n",
              "      padding: 0 0 0 0;\n",
              "      width: 32px;\n",
              "    }\n",
              "\n",
              "    .colab-df-convert:hover {\n",
              "      background-color: #E2EBFA;\n",
              "      box-shadow: 0px 1px 2px rgba(60, 64, 67, 0.3), 0px 1px 3px 1px rgba(60, 64, 67, 0.15);\n",
              "      fill: #174EA6;\n",
              "    }\n",
              "\n",
              "    [theme=dark] .colab-df-convert {\n",
              "      background-color: #3B4455;\n",
              "      fill: #D2E3FC;\n",
              "    }\n",
              "\n",
              "    [theme=dark] .colab-df-convert:hover {\n",
              "      background-color: #434B5C;\n",
              "      box-shadow: 0px 1px 3px 1px rgba(0, 0, 0, 0.15);\n",
              "      filter: drop-shadow(0px 1px 2px rgba(0, 0, 0, 0.3));\n",
              "      fill: #FFFFFF;\n",
              "    }\n",
              "  </style>\n",
              "\n",
              "      <script>\n",
              "        const buttonEl =\n",
              "          document.querySelector('#df-100d5c0e-3515-4a28-a491-ae7e593e2fa4 button.colab-df-convert');\n",
              "        buttonEl.style.display =\n",
              "          google.colab.kernel.accessAllowed ? 'block' : 'none';\n",
              "\n",
              "        async function convertToInteractive(key) {\n",
              "          const element = document.querySelector('#df-100d5c0e-3515-4a28-a491-ae7e593e2fa4');\n",
              "          const dataTable =\n",
              "            await google.colab.kernel.invokeFunction('convertToInteractive',\n",
              "                                                     [key], {});\n",
              "          if (!dataTable) return;\n",
              "\n",
              "          const docLinkHtml = 'Like what you see? Visit the ' +\n",
              "            '<a target=\"_blank\" href=https://colab.research.google.com/notebooks/data_table.ipynb>data table notebook</a>'\n",
              "            + ' to learn more about interactive tables.';\n",
              "          element.innerHTML = '';\n",
              "          dataTable['output_type'] = 'display_data';\n",
              "          await google.colab.output.renderOutput(dataTable, element);\n",
              "          const docLink = document.createElement('div');\n",
              "          docLink.innerHTML = docLinkHtml;\n",
              "          element.appendChild(docLink);\n",
              "        }\n",
              "      </script>\n",
              "    </div>\n",
              "  </div>\n",
              "  "
            ]
          },
          "metadata": {},
          "execution_count": 27
        }
      ]
    },
    {
      "cell_type": "code",
      "source": [
        "df1= df.query('Height_m >8000')\n",
        "df1[['Mountain_name', 'Height_m','Country', 'Succesful_attempts']][:5]"
      ],
      "metadata": {
        "colab": {
          "base_uri": "https://localhost:8080/",
          "height": 206
        },
        "id": "VHUPMat0Lur4",
        "outputId": "cb66ca58-8fb4-4979-b216-4e1e9cae74d7"
      },
      "execution_count": 30,
      "outputs": [
        {
          "output_type": "execute_result",
          "data": {
            "text/plain": [
              "   Mountain_name  Height_m            Country  Succesful_attempts\n",
              "0  Mount Everest    8848.0     [Nepal, China]                 145\n",
              "1             K2    8611.0  [Pakistan, China]                  45\n",
              "2  Kangchenjunga    8586.0     [Nepal, India]                  38\n",
              "3         Lhotse    8516.0     [China, Nepal]                  26\n",
              "4         Makalu    8485.0     [Nepal, China]                  45"
            ],
            "text/html": [
              "\n",
              "  <div id=\"df-e0055204-c12e-4770-b017-b8d0fb9c7581\">\n",
              "    <div class=\"colab-df-container\">\n",
              "      <div>\n",
              "<style scoped>\n",
              "    .dataframe tbody tr th:only-of-type {\n",
              "        vertical-align: middle;\n",
              "    }\n",
              "\n",
              "    .dataframe tbody tr th {\n",
              "        vertical-align: top;\n",
              "    }\n",
              "\n",
              "    .dataframe thead th {\n",
              "        text-align: right;\n",
              "    }\n",
              "</style>\n",
              "<table border=\"1\" class=\"dataframe\">\n",
              "  <thead>\n",
              "    <tr style=\"text-align: right;\">\n",
              "      <th></th>\n",
              "      <th>Mountain_name</th>\n",
              "      <th>Height_m</th>\n",
              "      <th>Country</th>\n",
              "      <th>Succesful_attempts</th>\n",
              "    </tr>\n",
              "  </thead>\n",
              "  <tbody>\n",
              "    <tr>\n",
              "      <th>0</th>\n",
              "      <td>Mount Everest</td>\n",
              "      <td>8848.0</td>\n",
              "      <td>[Nepal, China]</td>\n",
              "      <td>145</td>\n",
              "    </tr>\n",
              "    <tr>\n",
              "      <th>1</th>\n",
              "      <td>K2</td>\n",
              "      <td>8611.0</td>\n",
              "      <td>[Pakistan, China]</td>\n",
              "      <td>45</td>\n",
              "    </tr>\n",
              "    <tr>\n",
              "      <th>2</th>\n",
              "      <td>Kangchenjunga</td>\n",
              "      <td>8586.0</td>\n",
              "      <td>[Nepal, India]</td>\n",
              "      <td>38</td>\n",
              "    </tr>\n",
              "    <tr>\n",
              "      <th>3</th>\n",
              "      <td>Lhotse</td>\n",
              "      <td>8516.0</td>\n",
              "      <td>[China, Nepal]</td>\n",
              "      <td>26</td>\n",
              "    </tr>\n",
              "    <tr>\n",
              "      <th>4</th>\n",
              "      <td>Makalu</td>\n",
              "      <td>8485.0</td>\n",
              "      <td>[Nepal, China]</td>\n",
              "      <td>45</td>\n",
              "    </tr>\n",
              "  </tbody>\n",
              "</table>\n",
              "</div>\n",
              "      <button class=\"colab-df-convert\" onclick=\"convertToInteractive('df-e0055204-c12e-4770-b017-b8d0fb9c7581')\"\n",
              "              title=\"Convert this dataframe to an interactive table.\"\n",
              "              style=\"display:none;\">\n",
              "        \n",
              "  <svg xmlns=\"http://www.w3.org/2000/svg\" height=\"24px\"viewBox=\"0 0 24 24\"\n",
              "       width=\"24px\">\n",
              "    <path d=\"M0 0h24v24H0V0z\" fill=\"none\"/>\n",
              "    <path d=\"M18.56 5.44l.94 2.06.94-2.06 2.06-.94-2.06-.94-.94-2.06-.94 2.06-2.06.94zm-11 1L8.5 8.5l.94-2.06 2.06-.94-2.06-.94L8.5 2.5l-.94 2.06-2.06.94zm10 10l.94 2.06.94-2.06 2.06-.94-2.06-.94-.94-2.06-.94 2.06-2.06.94z\"/><path d=\"M17.41 7.96l-1.37-1.37c-.4-.4-.92-.59-1.43-.59-.52 0-1.04.2-1.43.59L10.3 9.45l-7.72 7.72c-.78.78-.78 2.05 0 2.83L4 21.41c.39.39.9.59 1.41.59.51 0 1.02-.2 1.41-.59l7.78-7.78 2.81-2.81c.8-.78.8-2.07 0-2.86zM5.41 20L4 18.59l7.72-7.72 1.47 1.35L5.41 20z\"/>\n",
              "  </svg>\n",
              "      </button>\n",
              "      \n",
              "  <style>\n",
              "    .colab-df-container {\n",
              "      display:flex;\n",
              "      flex-wrap:wrap;\n",
              "      gap: 12px;\n",
              "    }\n",
              "\n",
              "    .colab-df-convert {\n",
              "      background-color: #E8F0FE;\n",
              "      border: none;\n",
              "      border-radius: 50%;\n",
              "      cursor: pointer;\n",
              "      display: none;\n",
              "      fill: #1967D2;\n",
              "      height: 32px;\n",
              "      padding: 0 0 0 0;\n",
              "      width: 32px;\n",
              "    }\n",
              "\n",
              "    .colab-df-convert:hover {\n",
              "      background-color: #E2EBFA;\n",
              "      box-shadow: 0px 1px 2px rgba(60, 64, 67, 0.3), 0px 1px 3px 1px rgba(60, 64, 67, 0.15);\n",
              "      fill: #174EA6;\n",
              "    }\n",
              "\n",
              "    [theme=dark] .colab-df-convert {\n",
              "      background-color: #3B4455;\n",
              "      fill: #D2E3FC;\n",
              "    }\n",
              "\n",
              "    [theme=dark] .colab-df-convert:hover {\n",
              "      background-color: #434B5C;\n",
              "      box-shadow: 0px 1px 3px 1px rgba(0, 0, 0, 0.15);\n",
              "      filter: drop-shadow(0px 1px 2px rgba(0, 0, 0, 0.3));\n",
              "      fill: #FFFFFF;\n",
              "    }\n",
              "  </style>\n",
              "\n",
              "      <script>\n",
              "        const buttonEl =\n",
              "          document.querySelector('#df-e0055204-c12e-4770-b017-b8d0fb9c7581 button.colab-df-convert');\n",
              "        buttonEl.style.display =\n",
              "          google.colab.kernel.accessAllowed ? 'block' : 'none';\n",
              "\n",
              "        async function convertToInteractive(key) {\n",
              "          const element = document.querySelector('#df-e0055204-c12e-4770-b017-b8d0fb9c7581');\n",
              "          const dataTable =\n",
              "            await google.colab.kernel.invokeFunction('convertToInteractive',\n",
              "                                                     [key], {});\n",
              "          if (!dataTable) return;\n",
              "\n",
              "          const docLinkHtml = 'Like what you see? Visit the ' +\n",
              "            '<a target=\"_blank\" href=https://colab.research.google.com/notebooks/data_table.ipynb>data table notebook</a>'\n",
              "            + ' to learn more about interactive tables.';\n",
              "          element.innerHTML = '';\n",
              "          dataTable['output_type'] = 'display_data';\n",
              "          await google.colab.output.renderOutput(dataTable, element);\n",
              "          const docLink = document.createElement('div');\n",
              "          docLink.innerHTML = docLinkHtml;\n",
              "          element.appendChild(docLink);\n",
              "        }\n",
              "      </script>\n",
              "    </div>\n",
              "  </div>\n",
              "  "
            ]
          },
          "metadata": {},
          "execution_count": 30
        }
      ]
    },
    {
      "cell_type": "markdown",
      "source": [
        "### Which mountain was the earliest conquered?\n"
      ],
      "metadata": {
        "id": "UU_Hb2lRPkF0"
      }
    },
    {
      "cell_type": "code",
      "source": [
        "print('The first high mountain was conquered in the year:')\n",
        "df['Succesful_attempt_yr'].min()"
      ],
      "metadata": {
        "colab": {
          "base_uri": "https://localhost:8080/"
        },
        "id": "7M_Vy58EPqVU",
        "outputId": "f191ed98-0744-4806-a8eb-f0c2dc135732"
      },
      "execution_count": 33,
      "outputs": [
        {
          "output_type": "stream",
          "name": "stdout",
          "text": [
            "The first high mountain was conquered in the year:\n"
          ]
        },
        {
          "output_type": "execute_result",
          "data": {
            "text/plain": [
              "1930"
            ]
          },
          "metadata": {},
          "execution_count": 33
        }
      ]
    },
    {
      "cell_type": "code",
      "source": [
        "df2=df.dropna().nsmallest(5,'Succesful_attempt_yr')\n",
        "df2[['Rank','Mountain_name', 'Country', 'Succesful_attempt_yr', 'Failed_attempts']]"
      ],
      "metadata": {
        "colab": {
          "base_uri": "https://localhost:8080/",
          "height": 206
        },
        "id": "8cOaSDuJWynx",
        "outputId": "8cb08096-e896-4c06-f909-4da8c56f368b"
      },
      "execution_count": 34,
      "outputs": [
        {
          "output_type": "execute_result",
          "data": {
            "text/plain": [
              "     Rank  Mountain_name                Country  Succesful_attempt_yr  \\\n",
              "62     57  Jongsong Peak  [India, China, Nepal]                  1930   \n",
              "30     29          Kamet                [India]                  1931   \n",
              "45     41    Gongga Shan                [China]                  1932   \n",
              "69     63     Sia Kangri      [Pakistan, China]                  1934   \n",
              "112   101      Khartaphu                [China]                  1935   \n",
              "\n",
              "     Failed_attempts  \n",
              "62                 3  \n",
              "30                14  \n",
              "45                 7  \n",
              "69                 0  \n",
              "112                0  "
            ],
            "text/html": [
              "\n",
              "  <div id=\"df-8d75821e-8ef6-4d48-88c6-c02eac8c9b21\">\n",
              "    <div class=\"colab-df-container\">\n",
              "      <div>\n",
              "<style scoped>\n",
              "    .dataframe tbody tr th:only-of-type {\n",
              "        vertical-align: middle;\n",
              "    }\n",
              "\n",
              "    .dataframe tbody tr th {\n",
              "        vertical-align: top;\n",
              "    }\n",
              "\n",
              "    .dataframe thead th {\n",
              "        text-align: right;\n",
              "    }\n",
              "</style>\n",
              "<table border=\"1\" class=\"dataframe\">\n",
              "  <thead>\n",
              "    <tr style=\"text-align: right;\">\n",
              "      <th></th>\n",
              "      <th>Rank</th>\n",
              "      <th>Mountain_name</th>\n",
              "      <th>Country</th>\n",
              "      <th>Succesful_attempt_yr</th>\n",
              "      <th>Failed_attempts</th>\n",
              "    </tr>\n",
              "  </thead>\n",
              "  <tbody>\n",
              "    <tr>\n",
              "      <th>62</th>\n",
              "      <td>57</td>\n",
              "      <td>Jongsong Peak</td>\n",
              "      <td>[India, China, Nepal]</td>\n",
              "      <td>1930</td>\n",
              "      <td>3</td>\n",
              "    </tr>\n",
              "    <tr>\n",
              "      <th>30</th>\n",
              "      <td>29</td>\n",
              "      <td>Kamet</td>\n",
              "      <td>[India]</td>\n",
              "      <td>1931</td>\n",
              "      <td>14</td>\n",
              "    </tr>\n",
              "    <tr>\n",
              "      <th>45</th>\n",
              "      <td>41</td>\n",
              "      <td>Gongga Shan</td>\n",
              "      <td>[China]</td>\n",
              "      <td>1932</td>\n",
              "      <td>7</td>\n",
              "    </tr>\n",
              "    <tr>\n",
              "      <th>69</th>\n",
              "      <td>63</td>\n",
              "      <td>Sia Kangri</td>\n",
              "      <td>[Pakistan, China]</td>\n",
              "      <td>1934</td>\n",
              "      <td>0</td>\n",
              "    </tr>\n",
              "    <tr>\n",
              "      <th>112</th>\n",
              "      <td>101</td>\n",
              "      <td>Khartaphu</td>\n",
              "      <td>[China]</td>\n",
              "      <td>1935</td>\n",
              "      <td>0</td>\n",
              "    </tr>\n",
              "  </tbody>\n",
              "</table>\n",
              "</div>\n",
              "      <button class=\"colab-df-convert\" onclick=\"convertToInteractive('df-8d75821e-8ef6-4d48-88c6-c02eac8c9b21')\"\n",
              "              title=\"Convert this dataframe to an interactive table.\"\n",
              "              style=\"display:none;\">\n",
              "        \n",
              "  <svg xmlns=\"http://www.w3.org/2000/svg\" height=\"24px\"viewBox=\"0 0 24 24\"\n",
              "       width=\"24px\">\n",
              "    <path d=\"M0 0h24v24H0V0z\" fill=\"none\"/>\n",
              "    <path d=\"M18.56 5.44l.94 2.06.94-2.06 2.06-.94-2.06-.94-.94-2.06-.94 2.06-2.06.94zm-11 1L8.5 8.5l.94-2.06 2.06-.94-2.06-.94L8.5 2.5l-.94 2.06-2.06.94zm10 10l.94 2.06.94-2.06 2.06-.94-2.06-.94-.94-2.06-.94 2.06-2.06.94z\"/><path d=\"M17.41 7.96l-1.37-1.37c-.4-.4-.92-.59-1.43-.59-.52 0-1.04.2-1.43.59L10.3 9.45l-7.72 7.72c-.78.78-.78 2.05 0 2.83L4 21.41c.39.39.9.59 1.41.59.51 0 1.02-.2 1.41-.59l7.78-7.78 2.81-2.81c.8-.78.8-2.07 0-2.86zM5.41 20L4 18.59l7.72-7.72 1.47 1.35L5.41 20z\"/>\n",
              "  </svg>\n",
              "      </button>\n",
              "      \n",
              "  <style>\n",
              "    .colab-df-container {\n",
              "      display:flex;\n",
              "      flex-wrap:wrap;\n",
              "      gap: 12px;\n",
              "    }\n",
              "\n",
              "    .colab-df-convert {\n",
              "      background-color: #E8F0FE;\n",
              "      border: none;\n",
              "      border-radius: 50%;\n",
              "      cursor: pointer;\n",
              "      display: none;\n",
              "      fill: #1967D2;\n",
              "      height: 32px;\n",
              "      padding: 0 0 0 0;\n",
              "      width: 32px;\n",
              "    }\n",
              "\n",
              "    .colab-df-convert:hover {\n",
              "      background-color: #E2EBFA;\n",
              "      box-shadow: 0px 1px 2px rgba(60, 64, 67, 0.3), 0px 1px 3px 1px rgba(60, 64, 67, 0.15);\n",
              "      fill: #174EA6;\n",
              "    }\n",
              "\n",
              "    [theme=dark] .colab-df-convert {\n",
              "      background-color: #3B4455;\n",
              "      fill: #D2E3FC;\n",
              "    }\n",
              "\n",
              "    [theme=dark] .colab-df-convert:hover {\n",
              "      background-color: #434B5C;\n",
              "      box-shadow: 0px 1px 3px 1px rgba(0, 0, 0, 0.15);\n",
              "      filter: drop-shadow(0px 1px 2px rgba(0, 0, 0, 0.3));\n",
              "      fill: #FFFFFF;\n",
              "    }\n",
              "  </style>\n",
              "\n",
              "      <script>\n",
              "        const buttonEl =\n",
              "          document.querySelector('#df-8d75821e-8ef6-4d48-88c6-c02eac8c9b21 button.colab-df-convert');\n",
              "        buttonEl.style.display =\n",
              "          google.colab.kernel.accessAllowed ? 'block' : 'none';\n",
              "\n",
              "        async function convertToInteractive(key) {\n",
              "          const element = document.querySelector('#df-8d75821e-8ef6-4d48-88c6-c02eac8c9b21');\n",
              "          const dataTable =\n",
              "            await google.colab.kernel.invokeFunction('convertToInteractive',\n",
              "                                                     [key], {});\n",
              "          if (!dataTable) return;\n",
              "\n",
              "          const docLinkHtml = 'Like what you see? Visit the ' +\n",
              "            '<a target=\"_blank\" href=https://colab.research.google.com/notebooks/data_table.ipynb>data table notebook</a>'\n",
              "            + ' to learn more about interactive tables.';\n",
              "          element.innerHTML = '';\n",
              "          dataTable['output_type'] = 'display_data';\n",
              "          await google.colab.output.renderOutput(dataTable, element);\n",
              "          const docLink = document.createElement('div');\n",
              "          docLink.innerHTML = docLinkHtml;\n",
              "          element.appendChild(docLink);\n",
              "        }\n",
              "      </script>\n",
              "    </div>\n",
              "  </div>\n",
              "  "
            ]
          },
          "metadata": {},
          "execution_count": 34
        }
      ]
    },
    {
      "cell_type": "markdown",
      "source": [
        "Looks like the early mountain that was conquered in 1930s were not in the top 10 high mountains. \n",
        "\n",
        "\n",
        "---\n",
        "\n",
        "\n",
        "**Lets find out whenhigh mountains were climbed first time:**"
      ],
      "metadata": {
        "id": "aeniR57-OsWI"
      }
    },
    {
      "cell_type": "code",
      "source": [
        "df.query(\"Height_m >8000\")[['Mountain_name','Country', 'Succesful_attempt_yr']]"
      ],
      "metadata": {
        "colab": {
          "base_uri": "https://localhost:8080/",
          "height": 488
        },
        "id": "jMHK8TSZPBZZ",
        "outputId": "549eccd1-b024-4645-eb27-587ef8d23406"
      },
      "execution_count": 47,
      "outputs": [
        {
          "output_type": "execute_result",
          "data": {
            "text/plain": [
              "    Mountain_name            Country  Succesful_attempt_yr\n",
              "0   Mount Everest     [Nepal, China]                  1953\n",
              "1              K2  [Pakistan, China]                  1954\n",
              "2   Kangchenjunga     [Nepal, India]                  1955\n",
              "3          Lhotse     [China, Nepal]                  1956\n",
              "4          Makalu     [Nepal, China]                  1955\n",
              "5         Cho Oyu     [China, Nepal]                  1954\n",
              "6    Dhaulagiri I            [Nepal]                  1960\n",
              "7         Manaslu            [Nepal]                  1956\n",
              "8    Nanga Parbat         [Pakistan]                  1953\n",
              "9     Annapurna I            [Nepal]                  1950\n",
              "10   Gasherbrum I  [Pakistan, China]                  1958\n",
              "11     Broad Peak  [China, Pakistan]                  1957\n",
              "12  Gasherbrum II  [Pakistan, China]                  1956\n",
              "13   Shishapangma            [China]                  1964"
            ],
            "text/html": [
              "\n",
              "  <div id=\"df-3d22f602-8bd3-4a30-a12b-255aa7b9870d\">\n",
              "    <div class=\"colab-df-container\">\n",
              "      <div>\n",
              "<style scoped>\n",
              "    .dataframe tbody tr th:only-of-type {\n",
              "        vertical-align: middle;\n",
              "    }\n",
              "\n",
              "    .dataframe tbody tr th {\n",
              "        vertical-align: top;\n",
              "    }\n",
              "\n",
              "    .dataframe thead th {\n",
              "        text-align: right;\n",
              "    }\n",
              "</style>\n",
              "<table border=\"1\" class=\"dataframe\">\n",
              "  <thead>\n",
              "    <tr style=\"text-align: right;\">\n",
              "      <th></th>\n",
              "      <th>Mountain_name</th>\n",
              "      <th>Country</th>\n",
              "      <th>Succesful_attempt_yr</th>\n",
              "    </tr>\n",
              "  </thead>\n",
              "  <tbody>\n",
              "    <tr>\n",
              "      <th>0</th>\n",
              "      <td>Mount Everest</td>\n",
              "      <td>[Nepal, China]</td>\n",
              "      <td>1953</td>\n",
              "    </tr>\n",
              "    <tr>\n",
              "      <th>1</th>\n",
              "      <td>K2</td>\n",
              "      <td>[Pakistan, China]</td>\n",
              "      <td>1954</td>\n",
              "    </tr>\n",
              "    <tr>\n",
              "      <th>2</th>\n",
              "      <td>Kangchenjunga</td>\n",
              "      <td>[Nepal, India]</td>\n",
              "      <td>1955</td>\n",
              "    </tr>\n",
              "    <tr>\n",
              "      <th>3</th>\n",
              "      <td>Lhotse</td>\n",
              "      <td>[China, Nepal]</td>\n",
              "      <td>1956</td>\n",
              "    </tr>\n",
              "    <tr>\n",
              "      <th>4</th>\n",
              "      <td>Makalu</td>\n",
              "      <td>[Nepal, China]</td>\n",
              "      <td>1955</td>\n",
              "    </tr>\n",
              "    <tr>\n",
              "      <th>5</th>\n",
              "      <td>Cho Oyu</td>\n",
              "      <td>[China, Nepal]</td>\n",
              "      <td>1954</td>\n",
              "    </tr>\n",
              "    <tr>\n",
              "      <th>6</th>\n",
              "      <td>Dhaulagiri I</td>\n",
              "      <td>[Nepal]</td>\n",
              "      <td>1960</td>\n",
              "    </tr>\n",
              "    <tr>\n",
              "      <th>7</th>\n",
              "      <td>Manaslu</td>\n",
              "      <td>[Nepal]</td>\n",
              "      <td>1956</td>\n",
              "    </tr>\n",
              "    <tr>\n",
              "      <th>8</th>\n",
              "      <td>Nanga Parbat</td>\n",
              "      <td>[Pakistan]</td>\n",
              "      <td>1953</td>\n",
              "    </tr>\n",
              "    <tr>\n",
              "      <th>9</th>\n",
              "      <td>Annapurna I</td>\n",
              "      <td>[Nepal]</td>\n",
              "      <td>1950</td>\n",
              "    </tr>\n",
              "    <tr>\n",
              "      <th>10</th>\n",
              "      <td>Gasherbrum I</td>\n",
              "      <td>[Pakistan, China]</td>\n",
              "      <td>1958</td>\n",
              "    </tr>\n",
              "    <tr>\n",
              "      <th>11</th>\n",
              "      <td>Broad Peak</td>\n",
              "      <td>[China, Pakistan]</td>\n",
              "      <td>1957</td>\n",
              "    </tr>\n",
              "    <tr>\n",
              "      <th>12</th>\n",
              "      <td>Gasherbrum II</td>\n",
              "      <td>[Pakistan, China]</td>\n",
              "      <td>1956</td>\n",
              "    </tr>\n",
              "    <tr>\n",
              "      <th>13</th>\n",
              "      <td>Shishapangma</td>\n",
              "      <td>[China]</td>\n",
              "      <td>1964</td>\n",
              "    </tr>\n",
              "  </tbody>\n",
              "</table>\n",
              "</div>\n",
              "      <button class=\"colab-df-convert\" onclick=\"convertToInteractive('df-3d22f602-8bd3-4a30-a12b-255aa7b9870d')\"\n",
              "              title=\"Convert this dataframe to an interactive table.\"\n",
              "              style=\"display:none;\">\n",
              "        \n",
              "  <svg xmlns=\"http://www.w3.org/2000/svg\" height=\"24px\"viewBox=\"0 0 24 24\"\n",
              "       width=\"24px\">\n",
              "    <path d=\"M0 0h24v24H0V0z\" fill=\"none\"/>\n",
              "    <path d=\"M18.56 5.44l.94 2.06.94-2.06 2.06-.94-2.06-.94-.94-2.06-.94 2.06-2.06.94zm-11 1L8.5 8.5l.94-2.06 2.06-.94-2.06-.94L8.5 2.5l-.94 2.06-2.06.94zm10 10l.94 2.06.94-2.06 2.06-.94-2.06-.94-.94-2.06-.94 2.06-2.06.94z\"/><path d=\"M17.41 7.96l-1.37-1.37c-.4-.4-.92-.59-1.43-.59-.52 0-1.04.2-1.43.59L10.3 9.45l-7.72 7.72c-.78.78-.78 2.05 0 2.83L4 21.41c.39.39.9.59 1.41.59.51 0 1.02-.2 1.41-.59l7.78-7.78 2.81-2.81c.8-.78.8-2.07 0-2.86zM5.41 20L4 18.59l7.72-7.72 1.47 1.35L5.41 20z\"/>\n",
              "  </svg>\n",
              "      </button>\n",
              "      \n",
              "  <style>\n",
              "    .colab-df-container {\n",
              "      display:flex;\n",
              "      flex-wrap:wrap;\n",
              "      gap: 12px;\n",
              "    }\n",
              "\n",
              "    .colab-df-convert {\n",
              "      background-color: #E8F0FE;\n",
              "      border: none;\n",
              "      border-radius: 50%;\n",
              "      cursor: pointer;\n",
              "      display: none;\n",
              "      fill: #1967D2;\n",
              "      height: 32px;\n",
              "      padding: 0 0 0 0;\n",
              "      width: 32px;\n",
              "    }\n",
              "\n",
              "    .colab-df-convert:hover {\n",
              "      background-color: #E2EBFA;\n",
              "      box-shadow: 0px 1px 2px rgba(60, 64, 67, 0.3), 0px 1px 3px 1px rgba(60, 64, 67, 0.15);\n",
              "      fill: #174EA6;\n",
              "    }\n",
              "\n",
              "    [theme=dark] .colab-df-convert {\n",
              "      background-color: #3B4455;\n",
              "      fill: #D2E3FC;\n",
              "    }\n",
              "\n",
              "    [theme=dark] .colab-df-convert:hover {\n",
              "      background-color: #434B5C;\n",
              "      box-shadow: 0px 1px 3px 1px rgba(0, 0, 0, 0.15);\n",
              "      filter: drop-shadow(0px 1px 2px rgba(0, 0, 0, 0.3));\n",
              "      fill: #FFFFFF;\n",
              "    }\n",
              "  </style>\n",
              "\n",
              "      <script>\n",
              "        const buttonEl =\n",
              "          document.querySelector('#df-3d22f602-8bd3-4a30-a12b-255aa7b9870d button.colab-df-convert');\n",
              "        buttonEl.style.display =\n",
              "          google.colab.kernel.accessAllowed ? 'block' : 'none';\n",
              "\n",
              "        async function convertToInteractive(key) {\n",
              "          const element = document.querySelector('#df-3d22f602-8bd3-4a30-a12b-255aa7b9870d');\n",
              "          const dataTable =\n",
              "            await google.colab.kernel.invokeFunction('convertToInteractive',\n",
              "                                                     [key], {});\n",
              "          if (!dataTable) return;\n",
              "\n",
              "          const docLinkHtml = 'Like what you see? Visit the ' +\n",
              "            '<a target=\"_blank\" href=https://colab.research.google.com/notebooks/data_table.ipynb>data table notebook</a>'\n",
              "            + ' to learn more about interactive tables.';\n",
              "          element.innerHTML = '';\n",
              "          dataTable['output_type'] = 'display_data';\n",
              "          await google.colab.output.renderOutput(dataTable, element);\n",
              "          const docLink = document.createElement('div');\n",
              "          docLink.innerHTML = docLinkHtml;\n",
              "          element.appendChild(docLink);\n",
              "        }\n",
              "      </script>\n",
              "    </div>\n",
              "  </div>\n",
              "  "
            ]
          },
          "metadata": {},
          "execution_count": 47
        }
      ]
    },
    {
      "cell_type": "markdown",
      "source": [
        "▶***By 1950s, all 8000 meters mountains had been climbed starting with Mt. Annapurna in 1950.***"
      ],
      "metadata": {
        "id": "LiPw6VDkZRJd"
      }
    },
    {
      "cell_type": "markdown",
      "source": [
        "### First successful attemp year distribution\n",
        "\n",
        "The year the most mountains has been conquered:\n"
      ],
      "metadata": {
        "id": "Q0SfP7gxcW5G"
      }
    },
    {
      "cell_type": "code",
      "source": [
        "sns.set()\n",
        "yr = np.array(df['Succesful_attempt_yr'].dropna())\n",
        "plt.hist(yr)\n",
        "plt.title(\"First attempt of Mountains\")\n",
        "plt.xlabel(\"Year\")\n",
        "plt.ylabel(\"Count\")\n",
        "plt.show()"
      ],
      "metadata": {
        "colab": {
          "base_uri": "https://localhost:8080/",
          "height": 301
        },
        "id": "RoWQizfucMM9",
        "outputId": "5f1c919b-b071-438c-d286-9e444080ddcc"
      },
      "execution_count": 56,
      "outputs": [
        {
          "output_type": "display_data",
          "data": {
            "text/plain": [
              "<Figure size 432x288 with 1 Axes>"
            ],
            "image/png": "[encoded data removed]"
          },
          "metadata": {}
        }
      ]
    },
    {
      "cell_type": "markdown",
      "source": [
        "▶**Of all the hight mountains, most mountains were climbed in the 1960s.**"
      ],
      "metadata": {
        "id": "ZCKlB8hJcI0R"
      }
    },
    {
      "cell_type": "markdown",
      "source": [
        "### Height Distribution"
      ],
      "metadata": {
        "id": "chOy764xbx9F"
      }
    },
    {
      "cell_type": "code",
      "source": [
        "plt.boxplot(height)\n",
        "plt.title(\"Heights of Mountains\")\n",
        "plt.xlabel(\"height(ft)\")\n",
        "plt.show()"
      ],
      "metadata": {
        "colab": {
          "base_uri": "https://localhost:8080/",
          "height": 301
        },
        "id": "w-qlfYRLe5cG",
        "outputId": "67b602d8-ea72-4411-fc8f-1fff45e7b789"
      },
      "execution_count": null,
      "outputs": [
        {
          "output_type": "display_data",
          "data": {
            "text/plain": [
              "<Figure size 432x288 with 1 Axes>"
            ],
            "image/png": "[encoded data removed]"
          },
          "metadata": {}
        }
      ]
    },
    {
      "cell_type": "code",
      "source": [
        "height = np.array(df['Height_ft'])\n",
        "plt.hist(height)\n",
        "plt.title(\"Height Distribution of Mountains\")\n",
        "plt.xlabel(\"height(ft)\")\n",
        "plt.ylabel(\"Count\")\n",
        "plt.show()"
      ],
      "metadata": {
        "colab": {
          "base_uri": "https://localhost:8080/",
          "height": 301
        },
        "id": "ifWxqVcfbp1R",
        "outputId": "c92604c4-53a9-4184-f6c7-a448e3cae8dd"
      },
      "execution_count": null,
      "outputs": [
        {
          "output_type": "display_data",
          "data": {
            "text/plain": [
              "<Figure size 432x288 with 1 Axes>"
            ],
            "image/png": "[encoded data removed]"
          },
          "metadata": {}
        }
      ]
    },
    {
      "cell_type": "markdown",
      "source": [
        "### Which mountain had the most sucessful attempst?"
      ],
      "metadata": {
        "id": "v53SQvZFPskX"
      }
    },
    {
      "cell_type": "code",
      "source": [
        "df[['Mountain_name','Succesful_attempts', 'Failed_attempts']].loc[df['Succesful_attempts']==df['Succesful_attempts'].max()]"
      ],
      "metadata": {
        "colab": {
          "base_uri": "https://localhost:8080/",
          "height": 81
        },
        "id": "B7scNCRKSHSa",
        "outputId": "e5c26eba-cfc0-42a2-a875-92915759a978"
      },
      "execution_count": 57,
      "outputs": [
        {
          "output_type": "execute_result",
          "data": {
            "text/plain": [
              "   Mountain_name  Succesful_attempts  Failed_attempts\n",
              "0  Mount Everest                 145              121"
            ],
            "text/html": [
              "\n",
              "  <div id=\"df-f127c773-5ee4-428a-ab42-103808e6273a\">\n",
              "    <div class=\"colab-df-container\">\n",
              "      <div>\n",
              "<style scoped>\n",
              "    .dataframe tbody tr th:only-of-type {\n",
              "        vertical-align: middle;\n",
              "    }\n",
              "\n",
              "    .dataframe tbody tr th {\n",
              "        vertical-align: top;\n",
              "    }\n",
              "\n",
              "    .dataframe thead th {\n",
              "        text-align: right;\n",
              "    }\n",
              "</style>\n",
              "<table border=\"1\" class=\"dataframe\">\n",
              "  <thead>\n",
              "    <tr style=\"text-align: right;\">\n",
              "      <th></th>\n",
              "      <th>Mountain_name</th>\n",
              "      <th>Succesful_attempts</th>\n",
              "      <th>Failed_attempts</th>\n",
              "    </tr>\n",
              "  </thead>\n",
              "  <tbody>\n",
              "    <tr>\n",
              "      <th>0</th>\n",
              "      <td>Mount Everest</td>\n",
              "      <td>145</td>\n",
              "      <td>121</td>\n",
              "    </tr>\n",
              "  </tbody>\n",
              "</table>\n",
              "</div>\n",
              "      <button class=\"colab-df-convert\" onclick=\"convertToInteractive('df-f127c773-5ee4-428a-ab42-103808e6273a')\"\n",
              "              title=\"Convert this dataframe to an interactive table.\"\n",
              "              style=\"display:none;\">\n",
              "        \n",
              "  <svg xmlns=\"http://www.w3.org/2000/svg\" height=\"24px\"viewBox=\"0 0 24 24\"\n",
              "       width=\"24px\">\n",
              "    <path d=\"M0 0h24v24H0V0z\" fill=\"none\"/>\n",
              "    <path d=\"M18.56 5.44l.94 2.06.94-2.06 2.06-.94-2.06-.94-.94-2.06-.94 2.06-2.06.94zm-11 1L8.5 8.5l.94-2.06 2.06-.94-2.06-.94L8.5 2.5l-.94 2.06-2.06.94zm10 10l.94 2.06.94-2.06 2.06-.94-2.06-.94-.94-2.06-.94 2.06-2.06.94z\"/><path d=\"M17.41 7.96l-1.37-1.37c-.4-.4-.92-.59-1.43-.59-.52 0-1.04.2-1.43.59L10.3 9.45l-7.72 7.72c-.78.78-.78 2.05 0 2.83L4 21.41c.39.39.9.59 1.41.59.51 0 1.02-.2 1.41-.59l7.78-7.78 2.81-2.81c.8-.78.8-2.07 0-2.86zM5.41 20L4 18.59l7.72-7.72 1.47 1.35L5.41 20z\"/>\n",
              "  </svg>\n",
              "      </button>\n",
              "      \n",
              "  <style>\n",
              "    .colab-df-container {\n",
              "      display:flex;\n",
              "      flex-wrap:wrap;\n",
              "      gap: 12px;\n",
              "    }\n",
              "\n",
              "    .colab-df-convert {\n",
              "      background-color: #E8F0FE;\n",
              "      border: none;\n",
              "      border-radius: 50%;\n",
              "      cursor: pointer;\n",
              "      display: none;\n",
              "      fill: #1967D2;\n",
              "      height: 32px;\n",
              "      padding: 0 0 0 0;\n",
              "      width: 32px;\n",
              "    }\n",
              "\n",
              "    .colab-df-convert:hover {\n",
              "      background-color: #E2EBFA;\n",
              "      box-shadow: 0px 1px 2px rgba(60, 64, 67, 0.3), 0px 1px 3px 1px rgba(60, 64, 67, 0.15);\n",
              "      fill: #174EA6;\n",
              "    }\n",
              "\n",
              "    [theme=dark] .colab-df-convert {\n",
              "      background-color: #3B4455;\n",
              "      fill: #D2E3FC;\n",
              "    }\n",
              "\n",
              "    [theme=dark] .colab-df-convert:hover {\n",
              "      background-color: #434B5C;\n",
              "      box-shadow: 0px 1px 3px 1px rgba(0, 0, 0, 0.15);\n",
              "      filter: drop-shadow(0px 1px 2px rgba(0, 0, 0, 0.3));\n",
              "      fill: #FFFFFF;\n",
              "    }\n",
              "  </style>\n",
              "\n",
              "      <script>\n",
              "        const buttonEl =\n",
              "          document.querySelector('#df-f127c773-5ee4-428a-ab42-103808e6273a button.colab-df-convert');\n",
              "        buttonEl.style.display =\n",
              "          google.colab.kernel.accessAllowed ? 'block' : 'none';\n",
              "\n",
              "        async function convertToInteractive(key) {\n",
              "          const element = document.querySelector('#df-f127c773-5ee4-428a-ab42-103808e6273a');\n",
              "          const dataTable =\n",
              "            await google.colab.kernel.invokeFunction('convertToInteractive',\n",
              "                                                     [key], {});\n",
              "          if (!dataTable) return;\n",
              "\n",
              "          const docLinkHtml = 'Like what you see? Visit the ' +\n",
              "            '<a target=\"_blank\" href=https://colab.research.google.com/notebooks/data_table.ipynb>data table notebook</a>'\n",
              "            + ' to learn more about interactive tables.';\n",
              "          element.innerHTML = '';\n",
              "          dataTable['output_type'] = 'display_data';\n",
              "          await google.colab.output.renderOutput(dataTable, element);\n",
              "          const docLink = document.createElement('div');\n",
              "          docLink.innerHTML = docLinkHtml;\n",
              "          element.appendChild(docLink);\n",
              "        }\n",
              "      </script>\n",
              "    </div>\n",
              "  </div>\n",
              "  "
            ]
          },
          "metadata": {},
          "execution_count": 57
        }
      ]
    },
    {
      "cell_type": "markdown",
      "source": [
        "*It is no surprise that Mt. Everest has the most successful attempts ( 145) because of the fascination of conquering the tallest mountain on earth and rapid commercialization of Mt. Everest climbs.*\n",
        "\n",
        "\n"
      ],
      "metadata": {
        "id": "U0FfsIhuVBYy"
      }
    },
    {
      "cell_type": "markdown",
      "source": [
        "### Feature Engineering\n",
        "\n",
        "- Add columns, \n",
        "`total_attempts= Failed_attempts + Success_attempts and also add Percent_success= (success_attempts/total_attempts)*100`\n",
        "\n",
        "`Percent_success= (success_attempts/total_attempts)*100`\n"
      ],
      "metadata": {
        "id": "Mrp_Uqw-hcpf"
      }
    },
    {
      "cell_type": "code",
      "source": [
        "df['Total_attempts']=df['Failed_attempts']+df['Succesful_attempts']\n",
        "df['Percent_success']=(df['Succesful_attempts']/df['Total_attempts'])*100\n",
        "df.head()"
      ],
      "metadata": {
        "colab": {
          "base_uri": "https://localhost:8080/",
          "height": 357
        },
        "id": "mYQJowm4ZrJy",
        "outputId": "7bd56ef0-78d2-4f34-dc4f-01d0772ade10"
      },
      "execution_count": 58,
      "outputs": [
        {
          "output_type": "execute_result",
          "data": {
            "text/plain": [
              "   Rank  Mountain_name  Height_m  Height_ft  Prominence_m  Prominence_ft  \\\n",
              "0     1  Mount Everest    8848.0    29029.0        8848.0        29029.0   \n",
              "1     2             K2    8611.0    28251.0        4020.0        13190.0   \n",
              "2     3  Kangchenjunga    8586.0    28169.0        3922.0        12867.0   \n",
              "3     4         Lhotse    8516.0    27940.0         610.0         2000.0   \n",
              "4     5         Makalu    8485.0    27838.0        2378.0         7802.0   \n",
              "\n",
              "                       Range              Coordinates Parent_mountain  \\\n",
              "0     [Mahalangur, Himalaya]    27°59′17″N 86°55′31″E               —   \n",
              "1       [Baltoro, Karakoram]  35°52′53″N 76°30′48″E﻿    Mount Everest   \n",
              "2  [Kangchenjunga, Himalaya]  27°42′12″N 88°08′51″E﻿    Mount Everest   \n",
              "3     [Mahalangur, Himalaya]  27°57′42″N 86°55′59″E﻿    Mount Everest   \n",
              "4     [Mahalangur, Himalaya]  27°53′23″N 87°05′20″E﻿    Mount Everest   \n",
              "\n",
              "   Succesful_attempt_yr  Succesful_attempts  Failed_attempts  \\\n",
              "0                  1953                 145              121   \n",
              "1                  1954                  45               44   \n",
              "2                  1955                  38               24   \n",
              "3                  1956                  26               26   \n",
              "4                  1955                  45             <NA>   \n",
              "\n",
              "             Country  Total_attempts  Percent_success  \n",
              "0     [Nepal, China]             266        54.511278  \n",
              "1  [Pakistan, China]              89        50.561798  \n",
              "2     [Nepal, India]              62        61.290323  \n",
              "3     [China, Nepal]              52             50.0  \n",
              "4     [Nepal, China]            <NA>             <NA>  "
            ],
            "text/html": [
              "\n",
              "  <div id=\"df-f277805c-85fc-4569-b1a6-c07a84c1b8ff\">\n",
              "    <div class=\"colab-df-container\">\n",
              "      <div>\n",
              "<style scoped>\n",
              "    .dataframe tbody tr th:only-of-type {\n",
              "        vertical-align: middle;\n",
              "    }\n",
              "\n",
              "    .dataframe tbody tr th {\n",
              "        vertical-align: top;\n",
              "    }\n",
              "\n",
              "    .dataframe thead th {\n",
              "        text-align: right;\n",
              "    }\n",
              "</style>\n",
              "<table border=\"1\" class=\"dataframe\">\n",
              "  <thead>\n",
              "    <tr style=\"text-align: right;\">\n",
              "      <th></th>\n",
              "      <th>Rank</th>\n",
              "      <th>Mountain_name</th>\n",
              "      <th>Height_m</th>\n",
              "      <th>Height_ft</th>\n",
              "      <th>Prominence_m</th>\n",
              "      <th>Prominence_ft</th>\n",
              "      <th>Range</th>\n",
              "      <th>Coordinates</th>\n",
              "      <th>Parent_mountain</th>\n",
              "      <th>Succesful_attempt_yr</th>\n",
              "      <th>Succesful_attempts</th>\n",
              "      <th>Failed_attempts</th>\n",
              "      <th>Country</th>\n",
              "      <th>Total_attempts</th>\n",
              "      <th>Percent_success</th>\n",
              "    </tr>\n",
              "  </thead>\n",
              "  <tbody>\n",
              "    <tr>\n",
              "      <th>0</th>\n",
              "      <td>1</td>\n",
              "      <td>Mount Everest</td>\n",
              "      <td>8848.0</td>\n",
              "      <td>29029.0</td>\n",
              "      <td>8848.0</td>\n",
              "      <td>29029.0</td>\n",
              "      <td>[Mahalangur, Himalaya]</td>\n",
              "      <td>27°59′17″N 86°55′31″E</td>\n",
              "      <td>—</td>\n",
              "      <td>1953</td>\n",
              "      <td>145</td>\n",
              "      <td>121</td>\n",
              "      <td>[Nepal, China]</td>\n",
              "      <td>266</td>\n",
              "      <td>54.511278</td>\n",
              "    </tr>\n",
              "    <tr>\n",
              "      <th>1</th>\n",
              "      <td>2</td>\n",
              "      <td>K2</td>\n",
              "      <td>8611.0</td>\n",
              "      <td>28251.0</td>\n",
              "      <td>4020.0</td>\n",
              "      <td>13190.0</td>\n",
              "      <td>[Baltoro, Karakoram]</td>\n",
              "      <td>35°52′53″N 76°30′48″E﻿</td>\n",
              "      <td>Mount Everest</td>\n",
              "      <td>1954</td>\n",
              "      <td>45</td>\n",
              "      <td>44</td>\n",
              "      <td>[Pakistan, China]</td>\n",
              "      <td>89</td>\n",
              "      <td>50.561798</td>\n",
              "    </tr>\n",
              "    <tr>\n",
              "      <th>2</th>\n",
              "      <td>3</td>\n",
              "      <td>Kangchenjunga</td>\n",
              "      <td>8586.0</td>\n",
              "      <td>28169.0</td>\n",
              "      <td>3922.0</td>\n",
              "      <td>12867.0</td>\n",
              "      <td>[Kangchenjunga, Himalaya]</td>\n",
              "      <td>27°42′12″N 88°08′51″E﻿</td>\n",
              "      <td>Mount Everest</td>\n",
              "      <td>1955</td>\n",
              "      <td>38</td>\n",
              "      <td>24</td>\n",
              "      <td>[Nepal, India]</td>\n",
              "      <td>62</td>\n",
              "      <td>61.290323</td>\n",
              "    </tr>\n",
              "    <tr>\n",
              "      <th>3</th>\n",
              "      <td>4</td>\n",
              "      <td>Lhotse</td>\n",
              "      <td>8516.0</td>\n",
              "      <td>27940.0</td>\n",
              "      <td>610.0</td>\n",
              "      <td>2000.0</td>\n",
              "      <td>[Mahalangur, Himalaya]</td>\n",
              "      <td>27°57′42″N 86°55′59″E﻿</td>\n",
              "      <td>Mount Everest</td>\n",
              "      <td>1956</td>\n",
              "      <td>26</td>\n",
              "      <td>26</td>\n",
              "      <td>[China, Nepal]</td>\n",
              "      <td>52</td>\n",
              "      <td>50.0</td>\n",
              "    </tr>\n",
              "    <tr>\n",
              "      <th>4</th>\n",
              "      <td>5</td>\n",
              "      <td>Makalu</td>\n",
              "      <td>8485.0</td>\n",
              "      <td>27838.0</td>\n",
              "      <td>2378.0</td>\n",
              "      <td>7802.0</td>\n",
              "      <td>[Mahalangur, Himalaya]</td>\n",
              "      <td>27°53′23″N 87°05′20″E﻿</td>\n",
              "      <td>Mount Everest</td>\n",
              "      <td>1955</td>\n",
              "      <td>45</td>\n",
              "      <td>&lt;NA&gt;</td>\n",
              "      <td>[Nepal, China]</td>\n",
              "      <td>&lt;NA&gt;</td>\n",
              "      <td>&lt;NA&gt;</td>\n",
              "    </tr>\n",
              "  </tbody>\n",
              "</table>\n",
              "</div>\n",
              "      <button class=\"colab-df-convert\" onclick=\"convertToInteractive('df-f277805c-85fc-4569-b1a6-c07a84c1b8ff')\"\n",
              "              title=\"Convert this dataframe to an interactive table.\"\n",
              "              style=\"display:none;\">\n",
              "        \n",
              "  <svg xmlns=\"http://www.w3.org/2000/svg\" height=\"24px\"viewBox=\"0 0 24 24\"\n",
              "       width=\"24px\">\n",
              "    <path d=\"M0 0h24v24H0V0z\" fill=\"none\"/>\n",
              "    <path d=\"M18.56 5.44l.94 2.06.94-2.06 2.06-.94-2.06-.94-.94-2.06-.94 2.06-2.06.94zm-11 1L8.5 8.5l.94-2.06 2.06-.94-2.06-.94L8.5 2.5l-.94 2.06-2.06.94zm10 10l.94 2.06.94-2.06 2.06-.94-2.06-.94-.94-2.06-.94 2.06-2.06.94z\"/><path d=\"M17.41 7.96l-1.37-1.37c-.4-.4-.92-.59-1.43-.59-.52 0-1.04.2-1.43.59L10.3 9.45l-7.72 7.72c-.78.78-.78 2.05 0 2.83L4 21.41c.39.39.9.59 1.41.59.51 0 1.02-.2 1.41-.59l7.78-7.78 2.81-2.81c.8-.78.8-2.07 0-2.86zM5.41 20L4 18.59l7.72-7.72 1.47 1.35L5.41 20z\"/>\n",
              "  </svg>\n",
              "      </button>\n",
              "      \n",
              "  <style>\n",
              "    .colab-df-container {\n",
              "      display:flex;\n",
              "      flex-wrap:wrap;\n",
              "      gap: 12px;\n",
              "    }\n",
              "\n",
              "    .colab-df-convert {\n",
              "      background-color: #E8F0FE;\n",
              "      border: none;\n",
              "      border-radius: 50%;\n",
              "      cursor: pointer;\n",
              "      display: none;\n",
              "      fill: #1967D2;\n",
              "      height: 32px;\n",
              "      padding: 0 0 0 0;\n",
              "      width: 32px;\n",
              "    }\n",
              "\n",
              "    .colab-df-convert:hover {\n",
              "      background-color: #E2EBFA;\n",
              "      box-shadow: 0px 1px 2px rgba(60, 64, 67, 0.3), 0px 1px 3px 1px rgba(60, 64, 67, 0.15);\n",
              "      fill: #174EA6;\n",
              "    }\n",
              "\n",
              "    [theme=dark] .colab-df-convert {\n",
              "      background-color: #3B4455;\n",
              "      fill: #D2E3FC;\n",
              "    }\n",
              "\n",
              "    [theme=dark] .colab-df-convert:hover {\n",
              "      background-color: #434B5C;\n",
              "      box-shadow: 0px 1px 3px 1px rgba(0, 0, 0, 0.15);\n",
              "      filter: drop-shadow(0px 1px 2px rgba(0, 0, 0, 0.3));\n",
              "      fill: #FFFFFF;\n",
              "    }\n",
              "  </style>\n",
              "\n",
              "      <script>\n",
              "        const buttonEl =\n",
              "          document.querySelector('#df-f277805c-85fc-4569-b1a6-c07a84c1b8ff button.colab-df-convert');\n",
              "        buttonEl.style.display =\n",
              "          google.colab.kernel.accessAllowed ? 'block' : 'none';\n",
              "\n",
              "        async function convertToInteractive(key) {\n",
              "          const element = document.querySelector('#df-f277805c-85fc-4569-b1a6-c07a84c1b8ff');\n",
              "          const dataTable =\n",
              "            await google.colab.kernel.invokeFunction('convertToInteractive',\n",
              "                                                     [key], {});\n",
              "          if (!dataTable) return;\n",
              "\n",
              "          const docLinkHtml = 'Like what you see? Visit the ' +\n",
              "            '<a target=\"_blank\" href=https://colab.research.google.com/notebooks/data_table.ipynb>data table notebook</a>'\n",
              "            + ' to learn more about interactive tables.';\n",
              "          element.innerHTML = '';\n",
              "          dataTable['output_type'] = 'display_data';\n",
              "          await google.colab.output.renderOutput(dataTable, element);\n",
              "          const docLink = document.createElement('div');\n",
              "          docLink.innerHTML = docLinkHtml;\n",
              "          element.appendChild(docLink);\n",
              "        }\n",
              "      </script>\n",
              "    </div>\n",
              "  </div>\n",
              "  "
            ]
          },
          "metadata": {},
          "execution_count": 58
        }
      ]
    },
    {
      "cell_type": "markdown",
      "source": [
        "### Let's look at the top 5 succesful attempts?\n"
      ],
      "metadata": {
        "id": "vaO7LSkaVg-y"
      }
    },
    {
      "cell_type": "code",
      "source": [
        "attempt = np.array(df.dropna()['Total_attempts'])\n",
        "plt.boxplot(attempt)\n",
        "plt.title(\"Attempts of the mountains\")\n",
        "plt.xlabel(\"Attempts\")\n",
        "plt.show()"
      ],
      "metadata": {
        "colab": {
          "base_uri": "https://localhost:8080/",
          "height": 301
        },
        "id": "JjPztFlOfgYm",
        "outputId": "3ce881eb-38fb-442c-8281-9023cd029827"
      },
      "execution_count": null,
      "outputs": [
        {
          "output_type": "display_data",
          "data": {
            "text/plain": [
              "<Figure size 432x288 with 1 Axes>"
            ],
            "image/png": "[encoded data removed]"
          },
          "metadata": {}
        }
      ]
    },
    {
      "cell_type": "code",
      "source": [
        "df[['Mountain_name','Succesful_attempts','Failed_attempts','Percent_success']].loc[df['Rank']<10].nlargest(5, 'Percent_success')"
      ],
      "metadata": {
        "colab": {
          "base_uri": "https://localhost:8080/",
          "height": 318
        },
        "id": "fwQ82_tOVpf3",
        "outputId": "eddb111a-67a0-4d42-9811-b19fe026c46a"
      },
      "execution_count": 28,
      "outputs": [
        {
          "output_type": "error",
          "ename": "KeyError",
          "evalue": "ignored",
          "traceback": [
            "\u001b[0;31m---------------------------------------------------------------------------\u001b[0m",
            "\u001b[0;31mKeyError\u001b[0m                                  Traceback (most recent call last)",
            "\u001b[0;32m<ipython-input-28-6079bd4b4ddf>\u001b[0m in \u001b[0;36m<module>\u001b[0;34m\u001b[0m\n\u001b[0;32m----> 1\u001b[0;31m \u001b[0mdf\u001b[0m\u001b[0;34m[\u001b[0m\u001b[0;34m[\u001b[0m\u001b[0;34m'Mountain_name'\u001b[0m\u001b[0;34m,\u001b[0m\u001b[0;34m'Succesful_attempts'\u001b[0m\u001b[0;34m,\u001b[0m\u001b[0;34m'Failed_attempts'\u001b[0m\u001b[0;34m,\u001b[0m\u001b[0;34m'Percent_success'\u001b[0m\u001b[0;34m]\u001b[0m\u001b[0;34m]\u001b[0m\u001b[0;34m.\u001b[0m\u001b[0mloc\u001b[0m\u001b[0;34m[\u001b[0m\u001b[0mdf\u001b[0m\u001b[0;34m[\u001b[0m\u001b[0;34m'Rank'\u001b[0m\u001b[0;34m]\u001b[0m\u001b[0;34m<\u001b[0m\u001b[0;36m10\u001b[0m\u001b[0;34m]\u001b[0m\u001b[0;34m.\u001b[0m\u001b[0mnlargest\u001b[0m\u001b[0;34m(\u001b[0m\u001b[0;36m5\u001b[0m\u001b[0;34m,\u001b[0m \u001b[0;34m'Percent_success'\u001b[0m\u001b[0;34m)\u001b[0m\u001b[0;34m\u001b[0m\u001b[0;34m\u001b[0m\u001b[0m\n\u001b[0m",
            "\u001b[0;32m/usr/local/lib/python3.8/dist-packages/pandas/core/frame.py\u001b[0m in \u001b[0;36m__getitem__\u001b[0;34m(self, key)\u001b[0m\n\u001b[1;32m   3462\u001b[0m             \u001b[0;32mif\u001b[0m \u001b[0mis_iterator\u001b[0m\u001b[0;34m(\u001b[0m\u001b[0mkey\u001b[0m\u001b[0;34m)\u001b[0m\u001b[0;34m:\u001b[0m\u001b[0;34m\u001b[0m\u001b[0;34m\u001b[0m\u001b[0m\n\u001b[1;32m   3463\u001b[0m                 \u001b[0mkey\u001b[0m \u001b[0;34m=\u001b[0m \u001b[0mlist\u001b[0m\u001b[0;34m(\u001b[0m\u001b[0mkey\u001b[0m\u001b[0;34m)\u001b[0m\u001b[0;34m\u001b[0m\u001b[0;34m\u001b[0m\u001b[0m\n\u001b[0;32m-> 3464\u001b[0;31m             \u001b[0mindexer\u001b[0m \u001b[0;34m=\u001b[0m \u001b[0mself\u001b[0m\u001b[0;34m.\u001b[0m\u001b[0mloc\u001b[0m\u001b[0;34m.\u001b[0m\u001b[0m_get_listlike_indexer\u001b[0m\u001b[0;34m(\u001b[0m\u001b[0mkey\u001b[0m\u001b[0;34m,\u001b[0m \u001b[0maxis\u001b[0m\u001b[0;34m=\u001b[0m\u001b[0;36m1\u001b[0m\u001b[0;34m)\u001b[0m\u001b[0;34m[\u001b[0m\u001b[0;36m1\u001b[0m\u001b[0;34m]\u001b[0m\u001b[0;34m\u001b[0m\u001b[0;34m\u001b[0m\u001b[0m\n\u001b[0m\u001b[1;32m   3465\u001b[0m \u001b[0;34m\u001b[0m\u001b[0m\n\u001b[1;32m   3466\u001b[0m         \u001b[0;31m# take() does not accept boolean indexers\u001b[0m\u001b[0;34m\u001b[0m\u001b[0;34m\u001b[0m\u001b[0;34m\u001b[0m\u001b[0m\n",
            "\u001b[0;32m/usr/local/lib/python3.8/dist-packages/pandas/core/indexing.py\u001b[0m in \u001b[0;36m_get_listlike_indexer\u001b[0;34m(self, key, axis)\u001b[0m\n\u001b[1;32m   1312\u001b[0m             \u001b[0mkeyarr\u001b[0m\u001b[0;34m,\u001b[0m \u001b[0mindexer\u001b[0m\u001b[0;34m,\u001b[0m \u001b[0mnew_indexer\u001b[0m \u001b[0;34m=\u001b[0m \u001b[0max\u001b[0m\u001b[0;34m.\u001b[0m\u001b[0m_reindex_non_unique\u001b[0m\u001b[0;34m(\u001b[0m\u001b[0mkeyarr\u001b[0m\u001b[0;34m)\u001b[0m\u001b[0;34m\u001b[0m\u001b[0;34m\u001b[0m\u001b[0m\n\u001b[1;32m   1313\u001b[0m \u001b[0;34m\u001b[0m\u001b[0m\n\u001b[0;32m-> 1314\u001b[0;31m         \u001b[0mself\u001b[0m\u001b[0;34m.\u001b[0m\u001b[0m_validate_read_indexer\u001b[0m\u001b[0;34m(\u001b[0m\u001b[0mkeyarr\u001b[0m\u001b[0;34m,\u001b[0m \u001b[0mindexer\u001b[0m\u001b[0;34m,\u001b[0m \u001b[0maxis\u001b[0m\u001b[0;34m)\u001b[0m\u001b[0;34m\u001b[0m\u001b[0;34m\u001b[0m\u001b[0m\n\u001b[0m\u001b[1;32m   1315\u001b[0m \u001b[0;34m\u001b[0m\u001b[0m\n\u001b[1;32m   1316\u001b[0m         if needs_i8_conversion(ax.dtype) or isinstance(\n",
            "\u001b[0;32m/usr/local/lib/python3.8/dist-packages/pandas/core/indexing.py\u001b[0m in \u001b[0;36m_validate_read_indexer\u001b[0;34m(self, key, indexer, axis)\u001b[0m\n\u001b[1;32m   1375\u001b[0m \u001b[0;34m\u001b[0m\u001b[0m\n\u001b[1;32m   1376\u001b[0m             \u001b[0mnot_found\u001b[0m \u001b[0;34m=\u001b[0m \u001b[0mlist\u001b[0m\u001b[0;34m(\u001b[0m\u001b[0mensure_index\u001b[0m\u001b[0;34m(\u001b[0m\u001b[0mkey\u001b[0m\u001b[0;34m)\u001b[0m\u001b[0;34m[\u001b[0m\u001b[0mmissing_mask\u001b[0m\u001b[0;34m.\u001b[0m\u001b[0mnonzero\u001b[0m\u001b[0;34m(\u001b[0m\u001b[0;34m)\u001b[0m\u001b[0;34m[\u001b[0m\u001b[0;36m0\u001b[0m\u001b[0;34m]\u001b[0m\u001b[0;34m]\u001b[0m\u001b[0;34m.\u001b[0m\u001b[0munique\u001b[0m\u001b[0;34m(\u001b[0m\u001b[0;34m)\u001b[0m\u001b[0;34m)\u001b[0m\u001b[0;34m\u001b[0m\u001b[0;34m\u001b[0m\u001b[0m\n\u001b[0;32m-> 1377\u001b[0;31m             \u001b[0;32mraise\u001b[0m \u001b[0mKeyError\u001b[0m\u001b[0;34m(\u001b[0m\u001b[0;34mf\"{not_found} not in index\"\u001b[0m\u001b[0;34m)\u001b[0m\u001b[0;34m\u001b[0m\u001b[0;34m\u001b[0m\u001b[0m\n\u001b[0m\u001b[1;32m   1378\u001b[0m \u001b[0;34m\u001b[0m\u001b[0m\n\u001b[1;32m   1379\u001b[0m \u001b[0;34m\u001b[0m\u001b[0m\n",
            "\u001b[0;31mKeyError\u001b[0m: \"['Percent_success'] not in index\""
          ]
        }
      ]
    },
    {
      "cell_type": "code",
      "source": [
        "df['Suc].groupby['Country']"
      ],
      "metadata": {
        "colab": {
          "base_uri": "https://localhost:8080/",
          "height": 169
        },
        "id": "ldPcEKyUgmLP",
        "outputId": "200625be-cae0-4743-a1e3-9370cd983c77"
      },
      "execution_count": null,
      "outputs": [
        {
          "output_type": "error",
          "ename": "TypeError",
          "evalue": "ignored",
          "traceback": [
            "\u001b[0;31m---------------------------------------------------------------------------\u001b[0m",
            "\u001b[0;31mTypeError\u001b[0m                                 Traceback (most recent call last)",
            "\u001b[0;32m<ipython-input-49-82ba7674d230>\u001b[0m in \u001b[0;36m<module>\u001b[0;34m\u001b[0m\n\u001b[0;32m----> 1\u001b[0;31m \u001b[0mdf\u001b[0m\u001b[0;34m[\u001b[0m\u001b[0;34m'Mountain_name'\u001b[0m\u001b[0;34m]\u001b[0m\u001b[0;34m.\u001b[0m\u001b[0mgroupby\u001b[0m\u001b[0;34m[\u001b[0m\u001b[0;34m'Country'\u001b[0m\u001b[0;34m]\u001b[0m\u001b[0;34m\u001b[0m\u001b[0;34m\u001b[0m\u001b[0m\n\u001b[0m",
            "\u001b[0;31mTypeError\u001b[0m: 'method' object is not subscriptable"
          ]
        }
      ]
    },
    {
      "cell_type": "markdown",
      "source": [],
      "metadata": {
        "id": "md_L8008hehS"
      }
    },
    {
      "cell_type": "markdown",
      "source": [
        "Bigger mountain is outliers. Data distribution follows a "
      ],
      "metadata": {
        "id": "2s25JlVBfCBz"
      }
    },
    {
      "cell_type": "markdown",
      "source": [
        "- first attempt\n",
        "- Most attempts?\n",
        "- succes rates?\n",
        "- height distribution\n",
        " - attempst distribution\n",
        " - unconquered mountains"
      ],
      "metadata": {
        "id": "4FSnI5N6gtA3"
      }
    },
    {
      "cell_type": "markdown",
      "source": [
        "https://medium.com/geekculture/data-exploration-in-python-height-and-weight-of-nhl-players-using-3-methods-bf33c52692ce"
      ],
      "metadata": {
        "id": "3B4TQcP5fRfW"
      }
    },
    {
      "cell_type": "markdown",
      "source": [
        "- learn about box plot and hist plot\n",
        "- to-do\n",
        "- finish cleaning data \n",
        "-- (Rank change format to Float with S)\n",
        "-- groupby country name\n",
        "-- top attempts \n",
        "- blog post and readme\n",
        "\n"
      ],
      "metadata": {
        "id": "XF4RVmWqhgJJ"
      }
    }
  ]
}